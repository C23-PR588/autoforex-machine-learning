{
 "cells": [
  {
   "cell_type": "markdown",
   "id": "2cf84e83",
   "metadata": {},
   "source": [
    "# IDR to CNY, CAD, and MYR currency model"
   ]
  },
  {
   "cell_type": "code",
   "execution_count": 1,
   "id": "e31b6cfb",
   "metadata": {},
   "outputs": [],
   "source": [
    "%run helper_functions_and_libraries.py\n",
    "logging.set_verbosity(logging.ERROR)"
   ]
  },
  {
   "cell_type": "code",
   "execution_count": 2,
   "id": "42f17ea3",
   "metadata": {},
   "outputs": [],
   "source": [
    "df = pd.read_csv('currency_data_10_years.csv', parse_dates=['date'])"
   ]
  },
  {
   "cell_type": "code",
   "execution_count": 3,
   "id": "e8ea5902",
   "metadata": {},
   "outputs": [
    {
     "data": {
      "text/html": [
       "<div>\n",
       "<style scoped>\n",
       "    .dataframe tbody tr th:only-of-type {\n",
       "        vertical-align: middle;\n",
       "    }\n",
       "\n",
       "    .dataframe tbody tr th {\n",
       "        vertical-align: top;\n",
       "    }\n",
       "\n",
       "    .dataframe thead th {\n",
       "        text-align: right;\n",
       "    }\n",
       "</style>\n",
       "<table border=\"1\" class=\"dataframe\">\n",
       "  <thead>\n",
       "    <tr style=\"text-align: right;\">\n",
       "      <th></th>\n",
       "      <th>date</th>\n",
       "      <th>EUR</th>\n",
       "      <th>USD</th>\n",
       "      <th>JPY</th>\n",
       "      <th>GBP</th>\n",
       "      <th>SGD</th>\n",
       "      <th>AUD</th>\n",
       "      <th>CNY</th>\n",
       "      <th>CAD</th>\n",
       "      <th>MYR</th>\n",
       "      <th>RUB</th>\n",
       "    </tr>\n",
       "  </thead>\n",
       "  <tbody>\n",
       "    <tr>\n",
       "      <th>0</th>\n",
       "      <td>2013-05-01</td>\n",
       "      <td>12816.661099</td>\n",
       "      <td>9721.95011</td>\n",
       "      <td>99.794970</td>\n",
       "      <td>15125.789759</td>\n",
       "      <td>7884.025975</td>\n",
       "      <td>9991.932116</td>\n",
       "      <td>1573.729510</td>\n",
       "      <td>9637.238781</td>\n",
       "      <td>3196.705985</td>\n",
       "      <td>311.579294</td>\n",
       "    </tr>\n",
       "    <tr>\n",
       "      <th>1</th>\n",
       "      <td>2013-05-02</td>\n",
       "      <td>12696.355896</td>\n",
       "      <td>9727.31307</td>\n",
       "      <td>99.371194</td>\n",
       "      <td>15096.787469</td>\n",
       "      <td>7878.089194</td>\n",
       "      <td>9976.629029</td>\n",
       "      <td>1576.636811</td>\n",
       "      <td>9620.049518</td>\n",
       "      <td>3193.114711</td>\n",
       "      <td>311.787545</td>\n",
       "    </tr>\n",
       "    <tr>\n",
       "      <th>2</th>\n",
       "      <td>2013-05-03</td>\n",
       "      <td>12735.428571</td>\n",
       "      <td>9726.93828</td>\n",
       "      <td>98.682506</td>\n",
       "      <td>15125.784565</td>\n",
       "      <td>7879.444847</td>\n",
       "      <td>10024.671009</td>\n",
       "      <td>1576.977359</td>\n",
       "      <td>9628.439345</td>\n",
       "      <td>3201.788787</td>\n",
       "      <td>312.272389</td>\n",
       "    </tr>\n",
       "    <tr>\n",
       "      <th>3</th>\n",
       "      <td>2013-05-04</td>\n",
       "      <td>12758.622548</td>\n",
       "      <td>9729.21521</td>\n",
       "      <td>98.372041</td>\n",
       "      <td>15148.170100</td>\n",
       "      <td>7886.016560</td>\n",
       "      <td>10037.051582</td>\n",
       "      <td>1577.842772</td>\n",
       "      <td>9643.293465</td>\n",
       "      <td>3204.827462</td>\n",
       "      <td>313.177271</td>\n",
       "    </tr>\n",
       "    <tr>\n",
       "      <th>4</th>\n",
       "      <td>2013-05-05</td>\n",
       "      <td>12719.240307</td>\n",
       "      <td>9697.65758</td>\n",
       "      <td>97.852512</td>\n",
       "      <td>15097.625177</td>\n",
       "      <td>7859.545641</td>\n",
       "      <td>9999.337595</td>\n",
       "      <td>1572.747845</td>\n",
       "      <td>9623.460698</td>\n",
       "      <td>3195.832412</td>\n",
       "      <td>312.291932</td>\n",
       "    </tr>\n",
       "  </tbody>\n",
       "</table>\n",
       "</div>"
      ],
      "text/plain": [
       "        date           EUR         USD        JPY           GBP          SGD  \\\n",
       "0 2013-05-01  12816.661099  9721.95011  99.794970  15125.789759  7884.025975   \n",
       "1 2013-05-02  12696.355896  9727.31307  99.371194  15096.787469  7878.089194   \n",
       "2 2013-05-03  12735.428571  9726.93828  98.682506  15125.784565  7879.444847   \n",
       "3 2013-05-04  12758.622548  9729.21521  98.372041  15148.170100  7886.016560   \n",
       "4 2013-05-05  12719.240307  9697.65758  97.852512  15097.625177  7859.545641   \n",
       "\n",
       "            AUD          CNY          CAD          MYR         RUB  \n",
       "0   9991.932116  1573.729510  9637.238781  3196.705985  311.579294  \n",
       "1   9976.629029  1576.636811  9620.049518  3193.114711  311.787545  \n",
       "2  10024.671009  1576.977359  9628.439345  3201.788787  312.272389  \n",
       "3  10037.051582  1577.842772  9643.293465  3204.827462  313.177271  \n",
       "4   9999.337595  1572.747845  9623.460698  3195.832412  312.291932  "
      ]
     },
     "metadata": {},
     "output_type": "display_data"
    }
   ],
   "source": [
    "display(df.head())"
   ]
  },
  {
   "cell_type": "code",
   "execution_count": 4,
   "id": "d9a35aa7",
   "metadata": {},
   "outputs": [
    {
     "data": {
      "text/plain": [
       "date    0\n",
       "EUR     0\n",
       "USD     0\n",
       "JPY     0\n",
       "GBP     0\n",
       "SGD     0\n",
       "AUD     0\n",
       "CNY     0\n",
       "CAD     0\n",
       "MYR     0\n",
       "RUB     0\n",
       "dtype: int64"
      ]
     },
     "execution_count": 4,
     "metadata": {},
     "output_type": "execute_result"
    }
   ],
   "source": [
    "df.isnull().sum()"
   ]
  },
  {
   "cell_type": "code",
   "execution_count": 5,
   "id": "ed79bc13",
   "metadata": {},
   "outputs": [
    {
     "data": {
      "text/plain": [
       "0"
      ]
     },
     "execution_count": 5,
     "metadata": {},
     "output_type": "execute_result"
    }
   ],
   "source": [
    "df.duplicated().sum()"
   ]
  },
  {
   "cell_type": "code",
   "execution_count": 6,
   "id": "f55dce1b",
   "metadata": {},
   "outputs": [
    {
     "data": {
      "text/html": [
       "<div>\n",
       "<style scoped>\n",
       "    .dataframe tbody tr th:only-of-type {\n",
       "        vertical-align: middle;\n",
       "    }\n",
       "\n",
       "    .dataframe tbody tr th {\n",
       "        vertical-align: top;\n",
       "    }\n",
       "\n",
       "    .dataframe thead th {\n",
       "        text-align: right;\n",
       "    }\n",
       "</style>\n",
       "<table border=\"1\" class=\"dataframe\">\n",
       "  <thead>\n",
       "    <tr style=\"text-align: right;\">\n",
       "      <th></th>\n",
       "      <th>EUR</th>\n",
       "      <th>USD</th>\n",
       "      <th>JPY</th>\n",
       "      <th>GBP</th>\n",
       "      <th>SGD</th>\n",
       "      <th>AUD</th>\n",
       "      <th>CNY</th>\n",
       "      <th>CAD</th>\n",
       "      <th>MYR</th>\n",
       "      <th>RUB</th>\n",
       "    </tr>\n",
       "  </thead>\n",
       "  <tbody>\n",
       "    <tr>\n",
       "      <th>count</th>\n",
       "      <td>3653.000000</td>\n",
       "      <td>3653.000000</td>\n",
       "      <td>3653.000000</td>\n",
       "      <td>3653.000000</td>\n",
       "      <td>3653.000000</td>\n",
       "      <td>3653.000000</td>\n",
       "      <td>3653.000000</td>\n",
       "      <td>3653.000000</td>\n",
       "      <td>3653.000000</td>\n",
       "      <td>3653.000000</td>\n",
       "    </tr>\n",
       "    <tr>\n",
       "      <th>mean</th>\n",
       "      <td>15734.162882</td>\n",
       "      <td>13626.586201</td>\n",
       "      <td>121.401374</td>\n",
       "      <td>18653.481260</td>\n",
       "      <td>10082.717169</td>\n",
       "      <td>10260.649080</td>\n",
       "      <td>2069.300203</td>\n",
       "      <td>10754.881120</td>\n",
       "      <td>3404.138908</td>\n",
       "      <td>231.530939</td>\n",
       "    </tr>\n",
       "    <tr>\n",
       "      <th>std</th>\n",
       "      <td>1028.194122</td>\n",
       "      <td>1215.902129</td>\n",
       "      <td>10.240113</td>\n",
       "      <td>1282.776928</td>\n",
       "      <td>714.681696</td>\n",
       "      <td>449.989173</td>\n",
       "      <td>140.321208</td>\n",
       "      <td>530.164824</td>\n",
       "      <td>173.826533</td>\n",
       "      <td>46.941534</td>\n",
       "    </tr>\n",
       "    <tr>\n",
       "      <th>min</th>\n",
       "      <td>12502.789487</td>\n",
       "      <td>9697.657580</td>\n",
       "      <td>94.607603</td>\n",
       "      <td>14719.776369</td>\n",
       "      <td>7717.296664</td>\n",
       "      <td>8937.081757</td>\n",
       "      <td>1572.747845</td>\n",
       "      <td>9357.856739</td>\n",
       "      <td>2975.634017</td>\n",
       "      <td>102.737302</td>\n",
       "    </tr>\n",
       "    <tr>\n",
       "      <th>25%</th>\n",
       "      <td>15022.483609</td>\n",
       "      <td>13190.926920</td>\n",
       "      <td>113.522422</td>\n",
       "      <td>17928.531116</td>\n",
       "      <td>9568.972790</td>\n",
       "      <td>9936.471898</td>\n",
       "      <td>1980.528819</td>\n",
       "      <td>10411.948518</td>\n",
       "      <td>3302.096195</td>\n",
       "      <td>201.594311</td>\n",
       "    </tr>\n",
       "    <tr>\n",
       "      <th>50%</th>\n",
       "      <td>15801.743633</td>\n",
       "      <td>13912.643820</td>\n",
       "      <td>120.609803</td>\n",
       "      <td>18781.087788</td>\n",
       "      <td>10247.419202</td>\n",
       "      <td>10276.735571</td>\n",
       "      <td>2091.106976</td>\n",
       "      <td>10746.358863</td>\n",
       "      <td>3423.539036</td>\n",
       "      <td>219.833077</td>\n",
       "    </tr>\n",
       "    <tr>\n",
       "      <th>75%</th>\n",
       "      <td>16463.962255</td>\n",
       "      <td>14384.106330</td>\n",
       "      <td>129.598188</td>\n",
       "      <td>19469.502233</td>\n",
       "      <td>10588.733799</td>\n",
       "      <td>10609.276367</td>\n",
       "      <td>2177.005363</td>\n",
       "      <td>11165.293022</td>\n",
       "      <td>3529.477813</td>\n",
       "      <td>237.545901</td>\n",
       "    </tr>\n",
       "    <tr>\n",
       "      <th>max</th>\n",
       "      <td>18035.467645</td>\n",
       "      <td>16644.718800</td>\n",
       "      <td>153.504275</td>\n",
       "      <td>22488.120204</td>\n",
       "      <td>11718.909446</td>\n",
       "      <td>11396.359940</td>\n",
       "      <td>2346.805612</td>\n",
       "      <td>12314.949757</td>\n",
       "      <td>3819.207831</td>\n",
       "      <td>384.795234</td>\n",
       "    </tr>\n",
       "  </tbody>\n",
       "</table>\n",
       "</div>"
      ],
      "text/plain": [
       "                EUR           USD          JPY           GBP           SGD  \\\n",
       "count   3653.000000   3653.000000  3653.000000   3653.000000   3653.000000   \n",
       "mean   15734.162882  13626.586201   121.401374  18653.481260  10082.717169   \n",
       "std     1028.194122   1215.902129    10.240113   1282.776928    714.681696   \n",
       "min    12502.789487   9697.657580    94.607603  14719.776369   7717.296664   \n",
       "25%    15022.483609  13190.926920   113.522422  17928.531116   9568.972790   \n",
       "50%    15801.743633  13912.643820   120.609803  18781.087788  10247.419202   \n",
       "75%    16463.962255  14384.106330   129.598188  19469.502233  10588.733799   \n",
       "max    18035.467645  16644.718800   153.504275  22488.120204  11718.909446   \n",
       "\n",
       "                AUD          CNY           CAD          MYR          RUB  \n",
       "count   3653.000000  3653.000000   3653.000000  3653.000000  3653.000000  \n",
       "mean   10260.649080  2069.300203  10754.881120  3404.138908   231.530939  \n",
       "std      449.989173   140.321208    530.164824   173.826533    46.941534  \n",
       "min     8937.081757  1572.747845   9357.856739  2975.634017   102.737302  \n",
       "25%     9936.471898  1980.528819  10411.948518  3302.096195   201.594311  \n",
       "50%    10276.735571  2091.106976  10746.358863  3423.539036   219.833077  \n",
       "75%    10609.276367  2177.005363  11165.293022  3529.477813   237.545901  \n",
       "max    11396.359940  2346.805612  12314.949757  3819.207831   384.795234  "
      ]
     },
     "execution_count": 6,
     "metadata": {},
     "output_type": "execute_result"
    }
   ],
   "source": [
    "df.describe()"
   ]
  },
  {
   "cell_type": "code",
   "execution_count": 7,
   "id": "f6b0b7ca",
   "metadata": {},
   "outputs": [],
   "source": [
    "SPLIT_TIME = 2922\n",
    "WINDOW_SIZE = 15\n",
    "BATCH_SIZE = 128\n",
    "SHUFFLE_BUFFER_SIZE = 1000"
   ]
  },
  {
   "cell_type": "markdown",
   "id": "3e7c75ae",
   "metadata": {},
   "source": [
    "## CNY"
   ]
  },
  {
   "cell_type": "code",
   "execution_count": 8,
   "id": "ae541c7a",
   "metadata": {},
   "outputs": [],
   "source": [
    "cny_df = df[['date','CNY']]"
   ]
  },
  {
   "cell_type": "code",
   "execution_count": 9,
   "id": "4ab61320",
   "metadata": {},
   "outputs": [
    {
     "data": {
      "text/html": [
       "<div>\n",
       "<style scoped>\n",
       "    .dataframe tbody tr th:only-of-type {\n",
       "        vertical-align: middle;\n",
       "    }\n",
       "\n",
       "    .dataframe tbody tr th {\n",
       "        vertical-align: top;\n",
       "    }\n",
       "\n",
       "    .dataframe thead th {\n",
       "        text-align: right;\n",
       "    }\n",
       "</style>\n",
       "<table border=\"1\" class=\"dataframe\">\n",
       "  <thead>\n",
       "    <tr style=\"text-align: right;\">\n",
       "      <th></th>\n",
       "      <th>date</th>\n",
       "      <th>CNY</th>\n",
       "    </tr>\n",
       "  </thead>\n",
       "  <tbody>\n",
       "    <tr>\n",
       "      <th>0</th>\n",
       "      <td>2013-05-01</td>\n",
       "      <td>1573.729510</td>\n",
       "    </tr>\n",
       "    <tr>\n",
       "      <th>1</th>\n",
       "      <td>2013-05-02</td>\n",
       "      <td>1576.636811</td>\n",
       "    </tr>\n",
       "    <tr>\n",
       "      <th>2</th>\n",
       "      <td>2013-05-03</td>\n",
       "      <td>1576.977359</td>\n",
       "    </tr>\n",
       "    <tr>\n",
       "      <th>3</th>\n",
       "      <td>2013-05-04</td>\n",
       "      <td>1577.842772</td>\n",
       "    </tr>\n",
       "    <tr>\n",
       "      <th>4</th>\n",
       "      <td>2013-05-05</td>\n",
       "      <td>1572.747845</td>\n",
       "    </tr>\n",
       "  </tbody>\n",
       "</table>\n",
       "</div>"
      ],
      "text/plain": [
       "        date          CNY\n",
       "0 2013-05-01  1573.729510\n",
       "1 2013-05-02  1576.636811\n",
       "2 2013-05-03  1576.977359\n",
       "3 2013-05-04  1577.842772\n",
       "4 2013-05-05  1572.747845"
      ]
     },
     "metadata": {},
     "output_type": "display_data"
    },
    {
     "data": {
      "text/html": [
       "<div>\n",
       "<style scoped>\n",
       "    .dataframe tbody tr th:only-of-type {\n",
       "        vertical-align: middle;\n",
       "    }\n",
       "\n",
       "    .dataframe tbody tr th {\n",
       "        vertical-align: top;\n",
       "    }\n",
       "\n",
       "    .dataframe thead th {\n",
       "        text-align: right;\n",
       "    }\n",
       "</style>\n",
       "<table border=\"1\" class=\"dataframe\">\n",
       "  <thead>\n",
       "    <tr style=\"text-align: right;\">\n",
       "      <th></th>\n",
       "      <th>date</th>\n",
       "      <th>CNY</th>\n",
       "    </tr>\n",
       "  </thead>\n",
       "  <tbody>\n",
       "    <tr>\n",
       "      <th>3648</th>\n",
       "      <td>2023-04-27</td>\n",
       "      <td>2122.230600</td>\n",
       "    </tr>\n",
       "    <tr>\n",
       "      <th>3649</th>\n",
       "      <td>2023-04-28</td>\n",
       "      <td>2122.847288</td>\n",
       "    </tr>\n",
       "    <tr>\n",
       "      <th>3650</th>\n",
       "      <td>2023-04-29</td>\n",
       "      <td>2122.846296</td>\n",
       "    </tr>\n",
       "    <tr>\n",
       "      <th>3651</th>\n",
       "      <td>2023-04-30</td>\n",
       "      <td>2122.366433</td>\n",
       "    </tr>\n",
       "    <tr>\n",
       "      <th>3652</th>\n",
       "      <td>2023-05-01</td>\n",
       "      <td>2123.377747</td>\n",
       "    </tr>\n",
       "  </tbody>\n",
       "</table>\n",
       "</div>"
      ],
      "text/plain": [
       "           date          CNY\n",
       "3648 2023-04-27  2122.230600\n",
       "3649 2023-04-28  2122.847288\n",
       "3650 2023-04-29  2122.846296\n",
       "3651 2023-04-30  2122.366433\n",
       "3652 2023-05-01  2123.377747"
      ]
     },
     "metadata": {},
     "output_type": "display_data"
    }
   ],
   "source": [
    "display(cny_df.head())\n",
    "display(cny_df.tail())"
   ]
  },
  {
   "cell_type": "code",
   "execution_count": 10,
   "id": "0c262673",
   "metadata": {},
   "outputs": [],
   "source": [
    "times, series = parse_data_from_df(cny_df, 'CNY')"
   ]
  },
  {
   "cell_type": "code",
   "execution_count": 11,
   "id": "35539f34",
   "metadata": {},
   "outputs": [
    {
     "data": {
      "image/png": "[encoded data removed]",
      "text/plain": [
       "<Figure size 800x400 with 1 Axes>"
      ]
     },
     "metadata": {},
     "output_type": "display_data"
    }
   ],
   "source": [
    "plt.figure(figsize=(8, 4))\n",
    "plot_series(times, series, title=\"CNY/IDR Currency\", xlabel=\"Days\", ylabel=\"CNY/IDR\")"
   ]
  },
  {
   "cell_type": "code",
   "execution_count": 12,
   "id": "c3f090f2",
   "metadata": {},
   "outputs": [],
   "source": [
    "# Split the dataset\n",
    "time_train, series_train, time_valid, series_valid = train_val_split(times, series, SPLIT_TIME, None)"
   ]
  },
  {
   "cell_type": "code",
   "execution_count": 13,
   "id": "5d220da6",
   "metadata": {},
   "outputs": [
    {
     "name": "stdout",
     "output_type": "stream",
     "text": [
      "WARNING:tensorflow:AutoGraph could not transform <function windowed_dataset.<locals>.<lambda> at 0x000002936DB69630> and will run it as-is.\n",
      "Please report this to the TensorFlow team. When filing the bug, set the verbosity to 10 (on Linux, `export AUTOGRAPH_VERBOSITY=10`) and attach the full output.\n",
      "Cause: 'NoneType' object has no attribute '__dict__'\n",
      "To silence this warning, decorate the function with @tf.autograph.experimental.do_not_convert\n",
      "WARNING: AutoGraph could not transform <function windowed_dataset.<locals>.<lambda> at 0x000002936DB69630> and will run it as-is.\n",
      "Please report this to the TensorFlow team. When filing the bug, set the verbosity to 10 (on Linux, `export AUTOGRAPH_VERBOSITY=10`) and attach the full output.\n",
      "Cause: 'NoneType' object has no attribute '__dict__'\n",
      "To silence this warning, decorate the function with @tf.autograph.experimental.do_not_convert\n",
      "WARNING:tensorflow:AutoGraph could not transform <function windowed_dataset.<locals>.<lambda> at 0x000002937A5E3E20> and will run it as-is.\n",
      "Please report this to the TensorFlow team. When filing the bug, set the verbosity to 10 (on Linux, `export AUTOGRAPH_VERBOSITY=10`) and attach the full output.\n",
      "Cause: 'NoneType' object has no attribute '__dict__'\n",
      "To silence this warning, decorate the function with @tf.autograph.experimental.do_not_convert\n",
      "WARNING: AutoGraph could not transform <function windowed_dataset.<locals>.<lambda> at 0x000002937A5E3E20> and will run it as-is.\n",
      "Please report this to the TensorFlow team. When filing the bug, set the verbosity to 10 (on Linux, `export AUTOGRAPH_VERBOSITY=10`) and attach the full output.\n",
      "Cause: 'NoneType' object has no attribute '__dict__'\n",
      "To silence this warning, decorate the function with @tf.autograph.experimental.do_not_convert\n"
     ]
    }
   ],
   "source": [
    "train_set = windowed_dataset(series_train, \n",
    "                             window_size=WINDOW_SIZE, \n",
    "                             batch_size=BATCH_SIZE, \n",
    "                             shuffle_buffer=SHUFFLE_BUFFER_SIZE)"
   ]
  },
  {
   "cell_type": "code",
   "execution_count": 14,
   "id": "a22a0a17",
   "metadata": {},
   "outputs": [
    {
     "name": "stdout",
     "output_type": "stream",
     "text": [
      "WARNING:tensorflow:AutoGraph could not transform <function windowed_dataset.<locals>.<lambda> at 0x000002937A58B0A0> and will run it as-is.\n",
      "Please report this to the TensorFlow team. When filing the bug, set the verbosity to 10 (on Linux, `export AUTOGRAPH_VERBOSITY=10`) and attach the full output.\n",
      "Cause: 'NoneType' object has no attribute '__dict__'\n",
      "To silence this warning, decorate the function with @tf.autograph.experimental.do_not_convert\n",
      "WARNING: AutoGraph could not transform <function windowed_dataset.<locals>.<lambda> at 0x000002937A58B0A0> and will run it as-is.\n",
      "Please report this to the TensorFlow team. When filing the bug, set the verbosity to 10 (on Linux, `export AUTOGRAPH_VERBOSITY=10`) and attach the full output.\n",
      "Cause: 'NoneType' object has no attribute '__dict__'\n",
      "To silence this warning, decorate the function with @tf.autograph.experimental.do_not_convert\n",
      "WARNING:tensorflow:AutoGraph could not transform <function windowed_dataset.<locals>.<lambda> at 0x000002937A5E3D00> and will run it as-is.\n",
      "Please report this to the TensorFlow team. When filing the bug, set the verbosity to 10 (on Linux, `export AUTOGRAPH_VERBOSITY=10`) and attach the full output.\n",
      "Cause: 'NoneType' object has no attribute '__dict__'\n",
      "To silence this warning, decorate the function with @tf.autograph.experimental.do_not_convert\n",
      "WARNING: AutoGraph could not transform <function windowed_dataset.<locals>.<lambda> at 0x000002937A5E3D00> and will run it as-is.\n",
      "Please report this to the TensorFlow team. When filing the bug, set the verbosity to 10 (on Linux, `export AUTOGRAPH_VERBOSITY=10`) and attach the full output.\n",
      "Cause: 'NoneType' object has no attribute '__dict__'\n",
      "To silence this warning, decorate the function with @tf.autograph.experimental.do_not_convert\n"
     ]
    }
   ],
   "source": [
    "val_set = windowed_dataset(series_valid, \n",
    "                             window_size=WINDOW_SIZE, \n",
    "                             batch_size=BATCH_SIZE, \n",
    "                             shuffle_buffer=SHUFFLE_BUFFER_SIZE)"
   ]
  },
  {
   "cell_type": "code",
   "execution_count": 15,
   "id": "b88bc1c0",
   "metadata": {},
   "outputs": [],
   "source": [
    "def create_model():\n",
    "    \n",
    "    # Build the model\n",
    "    model = tf.keras.models.Sequential([\n",
    "        tf.keras.layers.Dense(128, input_shape=[WINDOW_SIZE], activation=\"relu\"), \n",
    "        tf.keras.layers.Dense(32, activation=\"relu\"),\n",
    "        tf.keras.layers.Dense(1)\n",
    "    ], name=\"model_cny\")\n",
    "\n",
    "    return model"
   ]
  },
  {
   "cell_type": "code",
   "execution_count": 16,
   "id": "2936cc2c",
   "metadata": {},
   "outputs": [
    {
     "name": "stdout",
     "output_type": "stream",
     "text": [
      "Model: \"model_cny\"\n",
      "_________________________________________________________________\n",
      " Layer (type)                Output Shape              Param #   \n",
      "=================================================================\n",
      " dense (Dense)               (None, 128)               2048      \n",
      "                                                                 \n",
      " dense_1 (Dense)             (None, 32)                4128      \n",
      "                                                                 \n",
      " dense_2 (Dense)             (None, 1)                 33        \n",
      "                                                                 \n",
      "=================================================================\n",
      "Total params: 6,209\n",
      "Trainable params: 6,209\n",
      "Non-trainable params: 0\n",
      "_________________________________________________________________\n",
      "23/23 [==============================] - 2s 69ms/step\n",
      "Your current architecture is compatible with the windowed dataset! :)\n"
     ]
    }
   ],
   "source": [
    "# Test your uncompiled model\n",
    "model = create_model()\n",
    "\n",
    "# Print the model summary\n",
    "model.summary()\n",
    "\n",
    "# Check model compatibility\n",
    "try:\n",
    "    model.predict(train_set)\n",
    "except:\n",
    "    print(\"Your current architecture is incompatible with the windowed dataset, try adjusting it.\")\n",
    "else:\n",
    "    print(\"Your current architecture is compatible with the windowed dataset! :)\")"
   ]
  },
  {
   "cell_type": "code",
   "execution_count": 17,
   "id": "03ec657c",
   "metadata": {},
   "outputs": [],
   "source": [
    "# Get initial weights\n",
    "init_weights = model.get_weights()\n",
    "\n",
    "# Reset states generated by Keras\n",
    "tf.keras.backend.clear_session()\n",
    "\n",
    "# Reset the weights\n",
    "model.set_weights(init_weights)"
   ]
  },
  {
   "cell_type": "code",
   "execution_count": 18,
   "id": "0f38ae36",
   "metadata": {},
   "outputs": [],
   "source": [
    "def adjust_learning_rate(dataset, model_to_train):\n",
    "    \n",
    "    model = model_to_train\n",
    "    \n",
    "    # Set the learning rate scheduler\n",
    "    lr_schedule = tf.keras.callbacks.LearningRateScheduler(lambda epoch: 0.001 * 10**(epoch / 20))\n",
    "    \n",
    "    # Select optimizer\n",
    "    optimizer = tf.keras.optimizers.Adam(learning_rate = 0.001)\n",
    "    # optimizer = tf.keras.optimizers.SGD(momentum=0.9)\n",
    "    \n",
    "    # Compile the model passing in the appropriate loss\n",
    "    model.compile(loss=tf.keras.losses.Huber(),\n",
    "                  optimizer=optimizer, \n",
    "                  metrics=[\"mae\"])\n",
    "    \n",
    "    # Train the model\n",
    "    history = model.fit(dataset, epochs=100, callbacks=[lr_schedule])\n",
    "    \n",
    "    return history"
   ]
  },
  {
   "cell_type": "code",
   "execution_count": 19,
   "id": "f173b304",
   "metadata": {},
   "outputs": [
    {
     "name": "stdout",
     "output_type": "stream",
     "text": [
      "Epoch 1/100\n",
      "23/23 [==============================] - 1s 9ms/step - loss: 347.5375 - mae: 348.0374 - lr: 0.0010\n",
      "Epoch 2/100\n",
      "23/23 [==============================] - 0s 7ms/step - loss: 58.2374 - mae: 58.7363 - lr: 0.0011\n",
      "Epoch 3/100\n",
      "23/23 [==============================] - 0s 7ms/step - loss: 25.7670 - mae: 26.2637 - lr: 0.0013\n",
      "Epoch 4/100\n",
      "23/23 [==============================] - 0s 8ms/step - loss: 15.9000 - mae: 16.3921 - lr: 0.0014\n",
      "Epoch 5/100\n",
      "23/23 [==============================] - 0s 7ms/step - loss: 16.6048 - mae: 17.0970 - lr: 0.0016\n",
      "Epoch 6/100\n",
      "23/23 [==============================] - 0s 7ms/step - loss: 29.7584 - mae: 30.2561 - lr: 0.0018\n",
      "Epoch 7/100\n",
      "23/23 [==============================] - 0s 7ms/step - loss: 32.1699 - mae: 32.6679 - lr: 0.0020\n",
      "Epoch 8/100\n",
      "23/23 [==============================] - 0s 7ms/step - loss: 31.3203 - mae: 31.8178 - lr: 0.0022\n",
      "Epoch 9/100\n",
      "23/23 [==============================] - 0s 7ms/step - loss: 38.8135 - mae: 39.3130 - lr: 0.0025\n",
      "Epoch 10/100\n",
      "23/23 [==============================] - 0s 7ms/step - loss: 38.0168 - mae: 38.5152 - lr: 0.0028\n",
      "Epoch 11/100\n",
      "23/23 [==============================] - 0s 8ms/step - loss: 43.3061 - mae: 43.8055 - lr: 0.0032\n",
      "Epoch 12/100\n",
      "23/23 [==============================] - 0s 9ms/step - loss: 44.4801 - mae: 44.9798 - lr: 0.0035\n",
      "Epoch 13/100\n",
      "23/23 [==============================] - 0s 9ms/step - loss: 45.3611 - mae: 45.8601 - lr: 0.0040\n",
      "Epoch 14/100\n",
      "23/23 [==============================] - 0s 7ms/step - loss: 48.4071 - mae: 48.9067 - lr: 0.0045\n",
      "Epoch 15/100\n",
      "23/23 [==============================] - 0s 7ms/step - loss: 36.5538 - mae: 37.0502 - lr: 0.0050\n",
      "Epoch 16/100\n",
      "23/23 [==============================] - 0s 7ms/step - loss: 35.6289 - mae: 36.1253 - lr: 0.0056\n",
      "Epoch 17/100\n",
      "23/23 [==============================] - 0s 9ms/step - loss: 28.6119 - mae: 29.1087 - lr: 0.0063\n",
      "Epoch 18/100\n",
      "23/23 [==============================] - 0s 10ms/step - loss: 52.8203 - mae: 53.3182 - lr: 0.0071\n",
      "Epoch 19/100\n",
      "23/23 [==============================] - 0s 9ms/step - loss: 116.9398 - mae: 117.4389 - lr: 0.0079\n",
      "Epoch 20/100\n",
      "23/23 [==============================] - 0s 9ms/step - loss: 152.6322 - mae: 153.1310 - lr: 0.0089\n",
      "Epoch 21/100\n",
      "23/23 [==============================] - 0s 7ms/step - loss: 63.8576 - mae: 64.3553 - lr: 0.0100\n",
      "Epoch 22/100\n",
      "23/23 [==============================] - 0s 9ms/step - loss: 63.7050 - mae: 64.2033 - lr: 0.0112\n",
      "Epoch 23/100\n",
      "23/23 [==============================] - 0s 9ms/step - loss: 150.2078 - mae: 150.7066 - lr: 0.0126\n",
      "Epoch 24/100\n",
      "23/23 [==============================] - 0s 7ms/step - loss: 170.0959 - mae: 170.5958 - lr: 0.0141\n",
      "Epoch 25/100\n",
      "23/23 [==============================] - 0s 7ms/step - loss: 56.9156 - mae: 57.4130 - lr: 0.0158\n",
      "Epoch 26/100\n",
      "23/23 [==============================] - 0s 8ms/step - loss: 94.2108 - mae: 94.7096 - lr: 0.0178\n",
      "Epoch 27/100\n",
      "23/23 [==============================] - 0s 8ms/step - loss: 236.3536 - mae: 236.8536 - lr: 0.0200\n",
      "Epoch 28/100\n",
      "23/23 [==============================] - 0s 10ms/step - loss: 231.6575 - mae: 232.1570 - lr: 0.0224\n",
      "Epoch 29/100\n",
      "23/23 [==============================] - 0s 9ms/step - loss: 228.1200 - mae: 228.6200 - lr: 0.0251\n",
      "Epoch 30/100\n",
      "23/23 [==============================] - 0s 9ms/step - loss: 135.2813 - mae: 135.7807 - lr: 0.0282\n",
      "Epoch 31/100\n",
      "23/23 [==============================] - 0s 12ms/step - loss: 181.3698 - mae: 181.8694 - lr: 0.0316\n",
      "Epoch 32/100\n",
      "23/23 [==============================] - 0s 10ms/step - loss: 110.2595 - mae: 110.7591 - lr: 0.0355\n",
      "Epoch 33/100\n",
      "23/23 [==============================] - 0s 9ms/step - loss: 96.0525 - mae: 96.5522 - lr: 0.0398\n",
      "Epoch 34/100\n",
      "23/23 [==============================] - 0s 9ms/step - loss: 104.9909 - mae: 105.4906 - lr: 0.0447\n",
      "Epoch 35/100\n",
      "23/23 [==============================] - 0s 9ms/step - loss: 197.6635 - mae: 198.1633 - lr: 0.0501\n",
      "Epoch 36/100\n",
      "23/23 [==============================] - 0s 9ms/step - loss: 228.4760 - mae: 228.9759 - lr: 0.0562\n",
      "Epoch 37/100\n",
      "23/23 [==============================] - 0s 11ms/step - loss: 198.6621 - mae: 199.1620 - lr: 0.0631\n",
      "Epoch 38/100\n",
      "23/23 [==============================] - 0s 13ms/step - loss: 238.0794 - mae: 238.5794 - lr: 0.0708\n",
      "Epoch 39/100\n",
      "23/23 [==============================] - 0s 12ms/step - loss: 153.8324 - mae: 154.3316 - lr: 0.0794\n",
      "Epoch 40/100\n",
      "23/23 [==============================] - 0s 12ms/step - loss: 203.0694 - mae: 203.5683 - lr: 0.0891\n",
      "Epoch 41/100\n",
      "23/23 [==============================] - 0s 12ms/step - loss: 529.2009 - mae: 529.7009 - lr: 0.1000\n",
      "Epoch 42/100\n",
      "23/23 [==============================] - 0s 10ms/step - loss: 305.3322 - mae: 305.8318 - lr: 0.1122\n",
      "Epoch 43/100\n",
      "23/23 [==============================] - 0s 10ms/step - loss: 878.9720 - mae: 879.4720 - lr: 0.1259\n",
      "Epoch 44/100\n",
      "23/23 [==============================] - 0s 10ms/step - loss: 484.3704 - mae: 484.8703 - lr: 0.1413\n",
      "Epoch 45/100\n",
      "23/23 [==============================] - 0s 11ms/step - loss: 602.0884 - mae: 602.5876 - lr: 0.1585\n",
      "Epoch 46/100\n",
      "23/23 [==============================] - 0s 10ms/step - loss: 509.5546 - mae: 510.0546 - lr: 0.1778\n",
      "Epoch 47/100\n",
      "23/23 [==============================] - 0s 10ms/step - loss: 334.4725 - mae: 334.9723 - lr: 0.1995\n",
      "Epoch 48/100\n",
      "23/23 [==============================] - 0s 10ms/step - loss: 723.1415 - mae: 723.6415 - lr: 0.2239\n",
      "Epoch 49/100\n",
      "23/23 [==============================] - 0s 10ms/step - loss: 860.8818 - mae: 861.3818 - lr: 0.2512\n",
      "Epoch 50/100\n",
      "23/23 [==============================] - 0s 11ms/step - loss: 641.3517 - mae: 641.8517 - lr: 0.2818\n",
      "Epoch 51/100\n",
      "23/23 [==============================] - 0s 12ms/step - loss: 1246.3470 - mae: 1246.8470 - lr: 0.3162\n",
      "Epoch 52/100\n",
      "23/23 [==============================] - 0s 10ms/step - loss: 1065.9895 - mae: 1066.4894 - lr: 0.3548\n",
      "Epoch 53/100\n",
      "23/23 [==============================] - 0s 10ms/step - loss: 2016.4821 - mae: 2016.9821 - lr: 0.3981\n",
      "Epoch 54/100\n",
      "23/23 [==============================] - 0s 9ms/step - loss: 2006.1771 - mae: 2006.6771 - lr: 0.4467\n",
      "Epoch 55/100\n",
      "23/23 [==============================] - 0s 10ms/step - loss: 1984.9171 - mae: 1985.4171 - lr: 0.5012\n",
      "Epoch 56/100\n",
      "23/23 [==============================] - 0s 12ms/step - loss: 1775.9617 - mae: 1776.4617 - lr: 0.5623\n",
      "Epoch 57/100\n",
      "23/23 [==============================] - 0s 12ms/step - loss: 619.6342 - mae: 620.1342 - lr: 0.6310\n",
      "Epoch 58/100\n",
      "23/23 [==============================] - 0s 11ms/step - loss: 173.3922 - mae: 173.8918 - lr: 0.7079\n",
      "Epoch 59/100\n",
      "23/23 [==============================] - 0s 10ms/step - loss: 120.3864 - mae: 120.8853 - lr: 0.7943\n",
      "Epoch 60/100\n",
      "23/23 [==============================] - 0s 10ms/step - loss: 99.7379 - mae: 100.2372 - lr: 0.8913\n",
      "Epoch 61/100\n",
      "23/23 [==============================] - 0s 12ms/step - loss: 103.2376 - mae: 103.7365 - lr: 1.0000\n",
      "Epoch 62/100\n",
      "23/23 [==============================] - 0s 10ms/step - loss: 104.6812 - mae: 105.1803 - lr: 1.1220\n",
      "Epoch 63/100\n",
      "23/23 [==============================] - 0s 9ms/step - loss: 105.0374 - mae: 105.5361 - lr: 1.2589\n",
      "Epoch 64/100\n",
      "23/23 [==============================] - 0s 8ms/step - loss: 106.6357 - mae: 107.1349 - lr: 1.4125\n",
      "Epoch 65/100\n",
      "23/23 [==============================] - 0s 9ms/step - loss: 107.2349 - mae: 107.7339 - lr: 1.5849\n",
      "Epoch 66/100\n",
      "23/23 [==============================] - 0s 10ms/step - loss: 108.6574 - mae: 109.1569 - lr: 1.7783\n",
      "Epoch 67/100\n",
      "23/23 [==============================] - 0s 8ms/step - loss: 115.1405 - mae: 115.6394 - lr: 1.9953\n",
      "Epoch 68/100\n",
      "23/23 [==============================] - 0s 8ms/step - loss: 110.9321 - mae: 111.4305 - lr: 2.2387\n",
      "Epoch 69/100\n",
      "23/23 [==============================] - 0s 9ms/step - loss: 115.7432 - mae: 116.2428 - lr: 2.5119\n",
      "Epoch 70/100\n",
      "23/23 [==============================] - 0s 8ms/step - loss: 98.5135 - mae: 99.0126 - lr: 2.8184\n",
      "Epoch 71/100\n",
      "23/23 [==============================] - 0s 8ms/step - loss: 98.8622 - mae: 99.3610 - lr: 3.1623\n",
      "Epoch 72/100\n",
      "23/23 [==============================] - 0s 8ms/step - loss: 99.6561 - mae: 100.1550 - lr: 3.5481\n",
      "Epoch 73/100\n",
      "23/23 [==============================] - 0s 10ms/step - loss: 97.9982 - mae: 98.4973 - lr: 3.9811\n",
      "Epoch 74/100\n"
     ]
    },
    {
     "name": "stdout",
     "output_type": "stream",
     "text": [
      "23/23 [==============================] - 0s 9ms/step - loss: 96.2104 - mae: 96.7089 - lr: 4.4668\n",
      "Epoch 75/100\n",
      "23/23 [==============================] - 0s 10ms/step - loss: 102.6290 - mae: 103.1284 - lr: 5.0119\n",
      "Epoch 76/100\n",
      "23/23 [==============================] - 0s 9ms/step - loss: 101.4401 - mae: 101.9395 - lr: 5.6234\n",
      "Epoch 77/100\n",
      "23/23 [==============================] - 0s 11ms/step - loss: 104.3322 - mae: 104.8312 - lr: 6.3096\n",
      "Epoch 78/100\n",
      "23/23 [==============================] - 0s 12ms/step - loss: 107.3701 - mae: 107.8694 - lr: 7.0795\n",
      "Epoch 79/100\n",
      "23/23 [==============================] - 0s 9ms/step - loss: 116.4059 - mae: 116.9045 - lr: 7.9433\n",
      "Epoch 80/100\n",
      "23/23 [==============================] - 0s 8ms/step - loss: 104.6533 - mae: 105.1523 - lr: 8.9125\n",
      "Epoch 81/100\n",
      "23/23 [==============================] - 0s 9ms/step - loss: 114.1922 - mae: 114.6911 - lr: 10.0000\n",
      "Epoch 82/100\n",
      "23/23 [==============================] - 0s 9ms/step - loss: 106.1166 - mae: 106.6154 - lr: 11.2202\n",
      "Epoch 83/100\n",
      "23/23 [==============================] - 0s 9ms/step - loss: 109.6374 - mae: 110.1363 - lr: 12.5893\n",
      "Epoch 84/100\n",
      "23/23 [==============================] - 0s 8ms/step - loss: 110.8427 - mae: 111.3420 - lr: 14.1254\n",
      "Epoch 85/100\n",
      "23/23 [==============================] - 0s 9ms/step - loss: 124.1168 - mae: 124.6162 - lr: 15.8489\n",
      "Epoch 86/100\n",
      "23/23 [==============================] - 0s 8ms/step - loss: 111.1579 - mae: 111.6568 - lr: 17.7828\n",
      "Epoch 87/100\n",
      "23/23 [==============================] - 0s 8ms/step - loss: 129.0084 - mae: 129.5074 - lr: 19.9526\n",
      "Epoch 88/100\n",
      "23/23 [==============================] - 0s 9ms/step - loss: 103.5724 - mae: 104.0716 - lr: 22.3872\n",
      "Epoch 89/100\n",
      "23/23 [==============================] - 0s 9ms/step - loss: 113.8454 - mae: 114.3443 - lr: 25.1189\n",
      "Epoch 90/100\n",
      "23/23 [==============================] - 0s 10ms/step - loss: 216.6975 - mae: 217.1969 - lr: 28.1838\n",
      "Epoch 91/100\n",
      "23/23 [==============================] - 0s 8ms/step - loss: 281.3204 - mae: 281.8200 - lr: 31.6228\n",
      "Epoch 92/100\n",
      "23/23 [==============================] - 0s 8ms/step - loss: 542.1132 - mae: 542.6130 - lr: 35.4813\n",
      "Epoch 93/100\n",
      "23/23 [==============================] - 0s 9ms/step - loss: 298.3263 - mae: 298.8258 - lr: 39.8107\n",
      "Epoch 94/100\n",
      "23/23 [==============================] - 0s 9ms/step - loss: 138.9764 - mae: 139.4756 - lr: 44.6684\n",
      "Epoch 95/100\n",
      "23/23 [==============================] - 0s 9ms/step - loss: 113.1181 - mae: 113.6172 - lr: 50.1187\n",
      "Epoch 96/100\n",
      "23/23 [==============================] - 0s 9ms/step - loss: 236.6712 - mae: 237.1704 - lr: 56.2341\n",
      "Epoch 97/100\n",
      "23/23 [==============================] - 0s 9ms/step - loss: 231.0739 - mae: 231.5732 - lr: 63.0957\n",
      "Epoch 98/100\n",
      "23/23 [==============================] - 0s 9ms/step - loss: 129.8443 - mae: 130.3427 - lr: 70.7946\n",
      "Epoch 99/100\n",
      "23/23 [==============================] - 0s 9ms/step - loss: 231.9388 - mae: 232.4387 - lr: 79.4328\n",
      "Epoch 100/100\n",
      "23/23 [==============================] - 0s 9ms/step - loss: 236.6988 - mae: 237.1983 - lr: 89.1251\n"
     ]
    }
   ],
   "source": [
    "# Run the training with dynamic LR\n",
    "lr_history = adjust_learning_rate(train_set, model)"
   ]
  },
  {
   "cell_type": "code",
   "execution_count": 20,
   "id": "057257f9",
   "metadata": {},
   "outputs": [],
   "source": [
    "# Reset states generated by Keras\n",
    "tf.keras.backend.clear_session()\n",
    "\n",
    "# Reset the weights\n",
    "model.set_weights(init_weights)"
   ]
  },
  {
   "cell_type": "code",
   "execution_count": 30,
   "id": "ba03414b",
   "metadata": {},
   "outputs": [],
   "source": [
    "def compile_model(dataset, model_to_train):\n",
    "    \n",
    "    model = model_to_train\n",
    "\n",
    "    optimizer = tf.keras.optimizers.Adam(learning_rate = 0.001)\n",
    "\n",
    "    model.compile(loss=tf.keras.losses.Huber(),\n",
    "                  optimizer=optimizer,\n",
    "                  metrics=[\"mae\"])\n",
    "\n",
    "    history = model.fit(dataset,\n",
    "                        verbose=1,\n",
    "                        epochs=100,\n",
    "                        validation_data=val_set,\n",
    "                        callbacks=[create_model_checkpoint()])   \n",
    "\n",
    "    return history"
   ]
  },
  {
   "cell_type": "code",
   "execution_count": 31,
   "id": "06659f32",
   "metadata": {},
   "outputs": [
    {
     "name": "stdout",
     "output_type": "stream",
     "text": [
      "Epoch 1/100\n",
      "     20/Unknown - 1s 8ms/step - loss: 386.6677 - mae: 387.1676  INFO:tensorflow:Assets written to: saved_model/2\\assets\n"
     ]
    },
    {
     "name": "stderr",
     "output_type": "stream",
     "text": [
      "INFO:tensorflow:Assets written to: saved_model/2\\assets\n"
     ]
    },
    {
     "name": "stdout",
     "output_type": "stream",
     "text": [
      "23/23 [==============================] - 2s 59ms/step - loss: 349.3494 - mae: 349.8491 - val_loss: 160.8506 - val_mae: 161.3506\n",
      "Epoch 2/100\n",
      "13/23 [===============>..............] - ETA: 0s - loss: 68.9952 - mae: 69.4951 INFO:tensorflow:Assets written to: saved_model/2\\assets\n"
     ]
    },
    {
     "name": "stderr",
     "output_type": "stream",
     "text": [
      "INFO:tensorflow:Assets written to: saved_model/2\\assets\n"
     ]
    },
    {
     "name": "stdout",
     "output_type": "stream",
     "text": [
      "23/23 [==============================] - 1s 35ms/step - loss: 51.0022 - mae: 51.5009 - val_loss: 16.5984 - val_mae: 17.0927\n",
      "Epoch 3/100\n",
      "12/23 [==============>...............] - ETA: 0s - loss: 16.2541 - mae: 16.7483INFO:tensorflow:Assets written to: saved_model/2\\assets\n"
     ]
    },
    {
     "name": "stderr",
     "output_type": "stream",
     "text": [
      "INFO:tensorflow:Assets written to: saved_model/2\\assets\n"
     ]
    },
    {
     "name": "stdout",
     "output_type": "stream",
     "text": [
      "23/23 [==============================] - 1s 36ms/step - loss: 17.0058 - mae: 17.4985 - val_loss: 13.1715 - val_mae: 13.6603\n",
      "Epoch 4/100\n",
      "23/23 [==============================] - 0s 11ms/step - loss: 18.5003 - mae: 18.9950 - val_loss: 13.6286 - val_mae: 14.1181\n",
      "Epoch 5/100\n",
      "23/23 [==============================] - 0s 12ms/step - loss: 16.0661 - mae: 16.5584 - val_loss: 13.2885 - val_mae: 13.7784\n",
      "Epoch 6/100\n",
      "18/23 [======================>.......] - ETA: 0s - loss: 16.7795 - mae: 17.2725INFO:tensorflow:Assets written to: saved_model/2\\assets\n"
     ]
    },
    {
     "name": "stderr",
     "output_type": "stream",
     "text": [
      "INFO:tensorflow:Assets written to: saved_model/2\\assets\n"
     ]
    },
    {
     "name": "stdout",
     "output_type": "stream",
     "text": [
      "23/23 [==============================] - 1s 43ms/step - loss: 16.2921 - mae: 16.7846 - val_loss: 12.8739 - val_mae: 13.3662\n",
      "Epoch 7/100\n",
      "12/23 [==============>...............] - ETA: 0s - loss: 15.1799 - mae: 15.6700INFO:tensorflow:Assets written to: saved_model/2\\assets\n"
     ]
    },
    {
     "name": "stderr",
     "output_type": "stream",
     "text": [
      "INFO:tensorflow:Assets written to: saved_model/2\\assets\n"
     ]
    },
    {
     "name": "stdout",
     "output_type": "stream",
     "text": [
      "23/23 [==============================] - 1s 40ms/step - loss: 15.9076 - mae: 16.3977 - val_loss: 12.7820 - val_mae: 13.2739\n",
      "Epoch 8/100\n",
      "23/23 [==============================] - 0s 10ms/step - loss: 16.3686 - mae: 16.8604 - val_loss: 15.0134 - val_mae: 15.5082\n",
      "Epoch 9/100\n",
      "13/23 [===============>..............] - ETA: 0s - loss: 14.6864 - mae: 15.1787INFO:tensorflow:Assets written to: saved_model/2\\assets\n"
     ]
    },
    {
     "name": "stderr",
     "output_type": "stream",
     "text": [
      "INFO:tensorflow:Assets written to: saved_model/2\\assets\n"
     ]
    },
    {
     "name": "stdout",
     "output_type": "stream",
     "text": [
      "23/23 [==============================] - 1s 34ms/step - loss: 15.2167 - mae: 15.7082 - val_loss: 12.3011 - val_mae: 12.7938\n",
      "Epoch 10/100\n",
      "23/23 [==============================] - 0s 10ms/step - loss: 17.8470 - mae: 18.3403 - val_loss: 22.9431 - val_mae: 23.4378\n",
      "Epoch 11/100\n",
      "23/23 [==============================] - 0s 10ms/step - loss: 18.7307 - mae: 19.2230 - val_loss: 14.3560 - val_mae: 14.8508\n",
      "Epoch 12/100\n",
      "23/23 [==============================] - 0s 12ms/step - loss: 18.1905 - mae: 18.6847 - val_loss: 27.3590 - val_mae: 27.8581\n",
      "Epoch 13/100\n",
      "23/23 [==============================] - 0s 10ms/step - loss: 20.9947 - mae: 21.4895 - val_loss: 14.5578 - val_mae: 15.0536\n",
      "Epoch 14/100\n",
      "13/23 [===============>..............] - ETA: 0s - loss: 13.3914 - mae: 13.8810INFO:tensorflow:Assets written to: saved_model/2\\assets\n"
     ]
    },
    {
     "name": "stderr",
     "output_type": "stream",
     "text": [
      "INFO:tensorflow:Assets written to: saved_model/2\\assets\n"
     ]
    },
    {
     "name": "stdout",
     "output_type": "stream",
     "text": [
      "23/23 [==============================] - 1s 40ms/step - loss: 14.2860 - mae: 14.7762 - val_loss: 11.7695 - val_mae: 12.2590\n",
      "Epoch 15/100\n",
      "23/23 [==============================] - 0s 12ms/step - loss: 14.5671 - mae: 15.0577 - val_loss: 12.9258 - val_mae: 13.4220\n",
      "Epoch 16/100\n",
      "23/23 [==============================] - 0s 14ms/step - loss: 16.4384 - mae: 16.9307 - val_loss: 11.9435 - val_mae: 12.4348\n",
      "Epoch 17/100\n",
      "23/23 [==============================] - 0s 13ms/step - loss: 21.9671 - mae: 22.4633 - val_loss: 28.7865 - val_mae: 29.2848\n",
      "Epoch 18/100\n",
      "14/23 [=================>............] - ETA: 0s - loss: 22.3619 - mae: 22.8577INFO:tensorflow:Assets written to: saved_model/2\\assets\n"
     ]
    },
    {
     "name": "stderr",
     "output_type": "stream",
     "text": [
      "INFO:tensorflow:Assets written to: saved_model/2\\assets\n"
     ]
    },
    {
     "name": "stdout",
     "output_type": "stream",
     "text": [
      "23/23 [==============================] - 1s 42ms/step - loss: 20.1534 - mae: 20.6467 - val_loss: 11.1834 - val_mae: 11.6742\n",
      "Epoch 19/100\n",
      "23/23 [==============================] - 0s 16ms/step - loss: 13.7086 - mae: 14.1991 - val_loss: 12.4135 - val_mae: 12.9093\n",
      "Epoch 20/100\n",
      "17/23 [=====================>........] - ETA: 0s - loss: 19.1793 - mae: 19.6746INFO:tensorflow:Assets written to: saved_model/2\\assets\n"
     ]
    },
    {
     "name": "stderr",
     "output_type": "stream",
     "text": [
      "INFO:tensorflow:Assets written to: saved_model/2\\assets\n"
     ]
    },
    {
     "name": "stdout",
     "output_type": "stream",
     "text": [
      "23/23 [==============================] - 1s 43ms/step - loss: 18.8829 - mae: 19.3779 - val_loss: 10.8551 - val_mae: 11.3403\n",
      "Epoch 21/100\n",
      "23/23 [==============================] - 0s 12ms/step - loss: 15.6097 - mae: 16.1023 - val_loss: 22.6616 - val_mae: 23.1595\n",
      "Epoch 22/100\n",
      "23/23 [==============================] - 0s 12ms/step - loss: 17.3422 - mae: 17.8365 - val_loss: 19.0661 - val_mae: 19.5626\n",
      "Epoch 23/100\n",
      "23/23 [==============================] - 0s 13ms/step - loss: 15.1073 - mae: 15.5974 - val_loss: 28.9816 - val_mae: 29.4798\n",
      "Epoch 24/100\n",
      "23/23 [==============================] - 0s 14ms/step - loss: 22.8726 - mae: 23.3684 - val_loss: 14.5142 - val_mae: 15.0069\n",
      "Epoch 25/100\n",
      "23/23 [==============================] - 0s 15ms/step - loss: 20.2393 - mae: 20.7366 - val_loss: 23.5937 - val_mae: 24.0913\n",
      "Epoch 26/100\n",
      "23/23 [==============================] - 0s 13ms/step - loss: 19.5433 - mae: 20.0396 - val_loss: 22.1037 - val_mae: 22.6017\n",
      "Epoch 27/100\n",
      "23/23 [==============================] - 0s 14ms/step - loss: 18.9375 - mae: 19.4327 - val_loss: 15.4224 - val_mae: 15.9170\n",
      "Epoch 28/100\n",
      "15/23 [==================>...........] - ETA: 0s - loss: 13.2300 - mae: 13.7209INFO:tensorflow:Assets written to: saved_model/2\\assets\n"
     ]
    },
    {
     "name": "stderr",
     "output_type": "stream",
     "text": [
      "INFO:tensorflow:Assets written to: saved_model/2\\assets\n"
     ]
    },
    {
     "name": "stdout",
     "output_type": "stream",
     "text": [
      "23/23 [==============================] - 1s 42ms/step - loss: 13.2445 - mae: 13.7356 - val_loss: 10.4008 - val_mae: 10.8883\n",
      "Epoch 29/100\n",
      "23/23 [==============================] - 0s 13ms/step - loss: 13.0762 - mae: 13.5672 - val_loss: 12.2437 - val_mae: 12.7373\n",
      "Epoch 30/100\n",
      "23/23 [==============================] - 0s 15ms/step - loss: 19.1588 - mae: 19.6558 - val_loss: 24.3657 - val_mae: 24.8651\n",
      "Epoch 31/100\n",
      "23/23 [==============================] - 0s 12ms/step - loss: 12.5145 - mae: 13.0041 - val_loss: 11.2623 - val_mae: 11.7548\n",
      "Epoch 32/100\n",
      "23/23 [==============================] - 0s 12ms/step - loss: 16.2804 - mae: 16.7745 - val_loss: 17.8085 - val_mae: 18.3039\n",
      "Epoch 33/100\n",
      "23/23 [==============================] - 0s 13ms/step - loss: 14.5458 - mae: 15.0387 - val_loss: 11.2087 - val_mae: 11.7029\n",
      "Epoch 34/100\n",
      "23/23 [==============================] - 0s 15ms/step - loss: 12.6364 - mae: 13.1263 - val_loss: 14.4897 - val_mae: 14.9838\n",
      "Epoch 35/100\n",
      "23/23 [==============================] - 0s 12ms/step - loss: 12.9135 - mae: 13.4030 - val_loss: 12.5675 - val_mae: 13.0611\n",
      "Epoch 36/100\n",
      "23/23 [==============================] - 0s 12ms/step - loss: 12.8682 - mae: 13.3579 - val_loss: 10.4949 - val_mae: 10.9871\n",
      "Epoch 37/100\n",
      "23/23 [==============================] - 0s 12ms/step - loss: 17.5978 - mae: 18.0905 - val_loss: 18.2942 - val_mae: 18.7903\n",
      "Epoch 38/100\n",
      "23/23 [==============================] - 0s 14ms/step - loss: 19.7205 - mae: 20.2173 - val_loss: 22.0545 - val_mae: 22.5532\n",
      "Epoch 39/100\n",
      "23/23 [==============================] - 0s 14ms/step - loss: 18.7477 - mae: 19.2438 - val_loss: 12.0596 - val_mae: 12.5545\n",
      "Epoch 40/100\n",
      "16/23 [===================>..........] - ETA: 0s - loss: 17.0234 - mae: 17.5185INFO:tensorflow:Assets written to: saved_model/2\\assets\n"
     ]
    },
    {
     "name": "stderr",
     "output_type": "stream",
     "text": [
      "INFO:tensorflow:Assets written to: saved_model/2\\assets\n"
     ]
    },
    {
     "name": "stdout",
     "output_type": "stream",
     "text": [
      "23/23 [==============================] - 1s 44ms/step - loss: 15.4091 - mae: 15.9034 - val_loss: 9.1387 - val_mae: 9.6213\n",
      "Epoch 41/100\n",
      "23/23 [==============================] - 0s 14ms/step - loss: 11.1847 - mae: 11.6719 - val_loss: 10.9929 - val_mae: 11.4869\n",
      "Epoch 42/100\n",
      "23/23 [==============================] - 0s 15ms/step - loss: 18.1410 - mae: 18.6341 - val_loss: 27.6218 - val_mae: 28.1206\n",
      "Epoch 43/100\n",
      "23/23 [==============================] - 1s 19ms/step - loss: 15.3434 - mae: 15.8369 - val_loss: 19.1013 - val_mae: 19.5977\n",
      "Epoch 44/100\n",
      "14/23 [=================>............] - ETA: 0s - loss: 13.1529 - mae: 13.6459INFO:tensorflow:Assets written to: saved_model/2\\assets\n"
     ]
    },
    {
     "name": "stderr",
     "output_type": "stream",
     "text": [
      "INFO:tensorflow:Assets written to: saved_model/2\\assets\n"
     ]
    },
    {
     "name": "stdout",
     "output_type": "stream",
     "text": [
      "23/23 [==============================] - 1s 47ms/step - loss: 12.5945 - mae: 13.0858 - val_loss: 9.0555 - val_mae: 9.5473\n",
      "Epoch 45/100\n",
      "23/23 [==============================] - 0s 13ms/step - loss: 10.5994 - mae: 11.0877 - val_loss: 13.3051 - val_mae: 13.7995\n",
      "Epoch 46/100\n",
      "23/23 [==============================] - 0s 14ms/step - loss: 18.3541 - mae: 18.8494 - val_loss: 13.1066 - val_mae: 13.5999\n",
      "Epoch 47/100\n",
      "23/23 [==============================] - 0s 14ms/step - loss: 15.0097 - mae: 15.5014 - val_loss: 10.6792 - val_mae: 11.1716\n",
      "Epoch 48/100\n",
      "23/23 [==============================] - 0s 13ms/step - loss: 16.9314 - mae: 17.4272 - val_loss: 20.5468 - val_mae: 21.0435\n",
      "Epoch 49/100\n",
      "23/23 [==============================] - 0s 12ms/step - loss: 17.9237 - mae: 18.4192 - val_loss: 24.0893 - val_mae: 24.5888\n",
      "Epoch 50/100\n",
      "23/23 [==============================] - 0s 13ms/step - loss: 12.1118 - mae: 12.6029 - val_loss: 10.5117 - val_mae: 11.0036\n",
      "Epoch 51/100\n",
      "23/23 [==============================] - 0s 14ms/step - loss: 10.6177 - mae: 11.1070 - val_loss: 9.6120 - val_mae: 10.1018\n",
      "Epoch 52/100\n",
      "23/23 [==============================] - 0s 14ms/step - loss: 10.3061 - mae: 10.7933 - val_loss: 10.2978 - val_mae: 10.7872\n",
      "Epoch 53/100\n",
      "14/23 [=================>............] - ETA: 0s - loss: 12.8497 - mae: 13.3417INFO:tensorflow:Assets written to: saved_model/2\\assets\n"
     ]
    },
    {
     "name": "stderr",
     "output_type": "stream",
     "text": [
      "INFO:tensorflow:Assets written to: saved_model/2\\assets\n"
     ]
    },
    {
     "name": "stdout",
     "output_type": "stream",
     "text": [
      "23/23 [==============================] - 1s 42ms/step - loss: 12.5828 - mae: 13.0737 - val_loss: 8.2660 - val_mae: 8.7491\n",
      "Epoch 54/100\n",
      "23/23 [==============================] - 0s 12ms/step - loss: 16.3324 - mae: 16.8266 - val_loss: 17.5059 - val_mae: 18.0039\n",
      "Epoch 55/100\n",
      "23/23 [==============================] - 0s 13ms/step - loss: 15.5758 - mae: 16.0696 - val_loss: 9.3691 - val_mae: 9.8566\n",
      "Epoch 56/100\n",
      "23/23 [==============================] - 0s 16ms/step - loss: 11.1681 - mae: 11.6562 - val_loss: 9.4325 - val_mae: 9.9214\n",
      "Epoch 57/100\n",
      "13/23 [===============>..............] - ETA: 0s - loss: 12.0842 - mae: 12.5741INFO:tensorflow:Assets written to: saved_model/2\\assets\n"
     ]
    },
    {
     "name": "stderr",
     "output_type": "stream",
     "text": [
      "INFO:tensorflow:Assets written to: saved_model/2\\assets\n"
     ]
    },
    {
     "name": "stdout",
     "output_type": "stream",
     "text": [
      "23/23 [==============================] - 1s 50ms/step - loss: 11.8330 - mae: 12.3231 - val_loss: 8.0975 - val_mae: 8.5853\n",
      "Epoch 58/100\n",
      "23/23 [==============================] - 0s 18ms/step - loss: 9.9557 - mae: 10.4429 - val_loss: 10.6174 - val_mae: 11.1123\n",
      "Epoch 59/100\n",
      "23/23 [==============================] - 0s 17ms/step - loss: 10.4250 - mae: 10.9116 - val_loss: 9.1254 - val_mae: 9.6120\n",
      "Epoch 60/100\n",
      "23/23 [==============================] - 0s 15ms/step - loss: 13.6584 - mae: 14.1508 - val_loss: 14.4420 - val_mae: 14.9374\n",
      "Epoch 61/100\n",
      "23/23 [==============================] - 0s 12ms/step - loss: 18.8867 - mae: 19.3829 - val_loss: 14.8945 - val_mae: 15.3882\n",
      "Epoch 62/100\n",
      "23/23 [==============================] - 0s 12ms/step - loss: 17.3303 - mae: 17.8264 - val_loss: 15.1089 - val_mae: 15.6048\n",
      "Epoch 63/100\n",
      "23/23 [==============================] - 0s 12ms/step - loss: 18.2775 - mae: 18.7735 - val_loss: 8.3796 - val_mae: 8.8682\n",
      "Epoch 64/100\n",
      "23/23 [==============================] - 0s 12ms/step - loss: 15.0121 - mae: 15.5058 - val_loss: 8.1443 - val_mae: 8.6302\n",
      "Epoch 65/100\n",
      "19/23 [=======================>......] - ETA: 0s - loss: 9.5985 - mae: 10.0868INFO:tensorflow:Assets written to: saved_model/2\\assets\n"
     ]
    },
    {
     "name": "stderr",
     "output_type": "stream",
     "text": [
      "INFO:tensorflow:Assets written to: saved_model/2\\assets\n"
     ]
    },
    {
     "name": "stdout",
     "output_type": "stream",
     "text": [
      "23/23 [==============================] - 1s 38ms/step - loss: 9.6806 - mae: 10.1688 - val_loss: 7.9215 - val_mae: 8.4077\n",
      "Epoch 66/100\n",
      "23/23 [==============================] - 0s 11ms/step - loss: 9.7119 - mae: 10.1975 - val_loss: 9.0281 - val_mae: 9.5115\n",
      "Epoch 67/100\n",
      "23/23 [==============================] - 0s 12ms/step - loss: 9.7535 - mae: 10.2429 - val_loss: 11.0529 - val_mae: 11.5444\n",
      "Epoch 68/100\n",
      "23/23 [==============================] - ETA: 0s - loss: 10.3690 - mae: 10.8554INFO:tensorflow:Assets written to: saved_model/2\\assets\n"
     ]
    },
    {
     "name": "stderr",
     "output_type": "stream",
     "text": [
      "INFO:tensorflow:Assets written to: saved_model/2\\assets\n"
     ]
    },
    {
     "name": "stdout",
     "output_type": "stream",
     "text": [
      "23/23 [==============================] - 1s 48ms/step - loss: 10.3690 - mae: 10.8554 - val_loss: 7.9099 - val_mae: 8.3956\n",
      "Epoch 69/100\n",
      "23/23 [==============================] - 0s 13ms/step - loss: 10.9202 - mae: 11.4104 - val_loss: 20.9914 - val_mae: 21.4910\n",
      "Epoch 70/100\n",
      "23/23 [==============================] - 0s 14ms/step - loss: 17.3956 - mae: 17.8917 - val_loss: 27.0294 - val_mae: 27.5293\n",
      "Epoch 71/100\n",
      "23/23 [==============================] - 0s 15ms/step - loss: 17.8235 - mae: 18.3178 - val_loss: 9.7723 - val_mae: 10.2630\n",
      "Epoch 72/100\n",
      "13/23 [===============>..............] - ETA: 0s - loss: 12.2365 - mae: 12.7303INFO:tensorflow:Assets written to: saved_model/2\\assets\n"
     ]
    },
    {
     "name": "stderr",
     "output_type": "stream",
     "text": [
      "INFO:tensorflow:Assets written to: saved_model/2\\assets\n"
     ]
    },
    {
     "name": "stdout",
     "output_type": "stream",
     "text": [
      "23/23 [==============================] - 1s 39ms/step - loss: 13.9359 - mae: 14.4297 - val_loss: 7.5244 - val_mae: 8.0078\n",
      "Epoch 73/100\n",
      "23/23 [==============================] - 0s 11ms/step - loss: 11.2121 - mae: 11.7045 - val_loss: 7.7878 - val_mae: 8.2775\n",
      "Epoch 74/100\n",
      "23/23 [==============================] - 0s 13ms/step - loss: 10.2318 - mae: 10.7189 - val_loss: 8.9304 - val_mae: 9.4163\n",
      "Epoch 75/100\n",
      "23/23 [==============================] - 0s 13ms/step - loss: 9.6949 - mae: 10.1817 - val_loss: 7.9295 - val_mae: 8.4178\n",
      "Epoch 76/100\n",
      "23/23 [==============================] - 0s 14ms/step - loss: 10.3446 - mae: 10.8342 - val_loss: 7.6795 - val_mae: 8.1681\n",
      "Epoch 77/100\n",
      "23/23 [==============================] - 0s 13ms/step - loss: 9.7989 - mae: 10.2861 - val_loss: 13.5551 - val_mae: 14.0493\n",
      "Epoch 78/100\n",
      "23/23 [==============================] - 0s 13ms/step - loss: 10.2928 - mae: 10.7836 - val_loss: 8.0742 - val_mae: 8.5624\n",
      "Epoch 79/100\n",
      "23/23 [==============================] - 0s 13ms/step - loss: 16.6803 - mae: 17.1758 - val_loss: 18.7443 - val_mae: 19.2401\n",
      "Epoch 80/100\n",
      "23/23 [==============================] - 0s 14ms/step - loss: 16.8763 - mae: 17.3734 - val_loss: 22.3360 - val_mae: 22.8351\n",
      "Epoch 81/100\n",
      "23/23 [==============================] - 0s 13ms/step - loss: 16.6021 - mae: 17.0983 - val_loss: 15.8320 - val_mae: 16.3291\n",
      "Epoch 82/100\n",
      "23/23 [==============================] - 0s 13ms/step - loss: 15.7029 - mae: 16.1982 - val_loss: 26.3537 - val_mae: 26.8535\n",
      "Epoch 83/100\n",
      "23/23 [==============================] - 0s 15ms/step - loss: 16.6250 - mae: 17.1213 - val_loss: 10.1148 - val_mae: 10.6100\n",
      "Epoch 84/100\n",
      "23/23 [==============================] - 0s 13ms/step - loss: 14.7574 - mae: 15.2511 - val_loss: 18.8013 - val_mae: 19.2969\n",
      "Epoch 85/100\n",
      "23/23 [==============================] - 0s 13ms/step - loss: 16.0341 - mae: 16.5287 - val_loss: 21.6033 - val_mae: 22.1011\n",
      "Epoch 86/100\n",
      "13/23 [===============>..............] - ETA: 0s - loss: 16.6263 - mae: 17.1243INFO:tensorflow:Assets written to: saved_model/2\\assets\n"
     ]
    },
    {
     "name": "stderr",
     "output_type": "stream",
     "text": [
      "INFO:tensorflow:Assets written to: saved_model/2\\assets\n"
     ]
    },
    {
     "name": "stdout",
     "output_type": "stream",
     "text": [
      "23/23 [==============================] - 1s 44ms/step - loss: 15.0850 - mae: 15.5807 - val_loss: 7.3094 - val_mae: 7.7941\n",
      "Epoch 87/100\n",
      "23/23 [==============================] - 0s 13ms/step - loss: 14.4642 - mae: 14.9578 - val_loss: 22.9392 - val_mae: 23.4388\n",
      "Epoch 88/100\n",
      "23/23 [==============================] - 0s 15ms/step - loss: 15.9482 - mae: 16.4444 - val_loss: 9.3985 - val_mae: 9.8882\n",
      "Epoch 89/100\n",
      "23/23 [==============================] - 0s 14ms/step - loss: 9.8189 - mae: 10.3083 - val_loss: 7.9048 - val_mae: 8.3945\n",
      "Epoch 90/100\n",
      "13/23 [===============>..............] - ETA: 0s - loss: 7.7923 - mae: 8.2765INFO:tensorflow:Assets written to: saved_model/2\\assets\n"
     ]
    },
    {
     "name": "stderr",
     "output_type": "stream",
     "text": [
      "INFO:tensorflow:Assets written to: saved_model/2\\assets\n"
     ]
    },
    {
     "name": "stdout",
     "output_type": "stream",
     "text": [
      "23/23 [==============================] - 1s 44ms/step - loss: 9.4534 - mae: 9.9402 - val_loss: 7.2775 - val_mae: 7.7614\n",
      "Epoch 91/100\n",
      "23/23 [==============================] - 0s 14ms/step - loss: 8.9521 - mae: 9.4387 - val_loss: 7.5016 - val_mae: 7.9832\n",
      "Epoch 92/100\n",
      "23/23 [==============================] - 0s 16ms/step - loss: 12.1418 - mae: 12.6315 - val_loss: 10.1332 - val_mae: 10.6262\n",
      "Epoch 93/100\n",
      "23/23 [==============================] - 0s 16ms/step - loss: 10.3058 - mae: 10.7947 - val_loss: 9.0018 - val_mae: 9.4911\n",
      "Epoch 94/100\n",
      "23/23 [==============================] - 0s 16ms/step - loss: 9.1849 - mae: 9.6722 - val_loss: 7.7230 - val_mae: 8.2122\n",
      "Epoch 95/100\n",
      "23/23 [==============================] - 0s 16ms/step - loss: 9.0563 - mae: 9.5424 - val_loss: 7.5288 - val_mae: 8.0162\n",
      "Epoch 96/100\n",
      "23/23 [==============================] - 0s 15ms/step - loss: 9.2297 - mae: 9.7175 - val_loss: 7.7737 - val_mae: 8.2596\n",
      "Epoch 97/100\n",
      "23/23 [==============================] - ETA: 0s - loss: 9.0017 - mae: 9.4880INFO:tensorflow:Assets written to: saved_model/2\\assets\n"
     ]
    },
    {
     "name": "stderr",
     "output_type": "stream",
     "text": [
      "INFO:tensorflow:Assets written to: saved_model/2\\assets\n"
     ]
    },
    {
     "name": "stdout",
     "output_type": "stream",
     "text": [
      "23/23 [==============================] - 1s 47ms/step - loss: 9.0017 - mae: 9.4880 - val_loss: 7.1325 - val_mae: 7.6170\n",
      "Epoch 98/100\n",
      "23/23 [==============================] - 0s 14ms/step - loss: 8.9182 - mae: 9.4040 - val_loss: 10.8892 - val_mae: 11.3790\n",
      "Epoch 99/100\n",
      "23/23 [==============================] - 0s 17ms/step - loss: 13.7245 - mae: 14.2173 - val_loss: 8.3673 - val_mae: 8.8582\n",
      "Epoch 100/100\n",
      "23/23 [==============================] - 1s 17ms/step - loss: 15.8246 - mae: 16.3192 - val_loss: 16.7583 - val_mae: 17.2555\n"
     ]
    }
   ],
   "source": [
    "history = compile_model(train_set, model)"
   ]
  },
  {
   "cell_type": "code",
   "execution_count": 32,
   "id": "935d8a1d",
   "metadata": {},
   "outputs": [
    {
     "data": {
      "image/png": "[encoded data removed]",
      "text/plain": [
       "<Figure size 640x480 with 1 Axes>"
      ]
     },
     "metadata": {},
     "output_type": "display_data"
    },
    {
     "data": {
      "image/png": "[encoded data removed]",
      "text/plain": [
       "<Figure size 640x480 with 1 Axes>"
      ]
     },
     "metadata": {},
     "output_type": "display_data"
    }
   ],
   "source": [
    "visualize_mae_loss(history)"
   ]
  },
  {
   "cell_type": "code",
   "execution_count": 33,
   "id": "5da288de",
   "metadata": {},
   "outputs": [],
   "source": [
    "pred_series = series[SPLIT_TIME-WINDOW_SIZE:-1]"
   ]
  },
  {
   "cell_type": "code",
   "execution_count": 34,
   "id": "cdb485b3",
   "metadata": {},
   "outputs": [
    {
     "name": "stdout",
     "output_type": "stream",
     "text": [
      "WARNING:tensorflow:AutoGraph could not transform <function model_forecast.<locals>.<lambda> at 0x000002937F145480> and will run it as-is.\n",
      "Please report this to the TensorFlow team. When filing the bug, set the verbosity to 10 (on Linux, `export AUTOGRAPH_VERBOSITY=10`) and attach the full output.\n",
      "Cause: 'NoneType' object has no attribute '__dict__'\n",
      "To silence this warning, decorate the function with @tf.autograph.experimental.do_not_convert\n"
     ]
    },
    {
     "name": "stderr",
     "output_type": "stream",
     "text": [
      "WARNING:tensorflow:AutoGraph could not transform <function model_forecast.<locals>.<lambda> at 0x000002937F145480> and will run it as-is.\n",
      "Please report this to the TensorFlow team. When filing the bug, set the verbosity to 10 (on Linux, `export AUTOGRAPH_VERBOSITY=10`) and attach the full output.\n",
      "Cause: 'NoneType' object has no attribute '__dict__'\n",
      "To silence this warning, decorate the function with @tf.autograph.experimental.do_not_convert\n"
     ]
    },
    {
     "name": "stdout",
     "output_type": "stream",
     "text": [
      "WARNING: AutoGraph could not transform <function model_forecast.<locals>.<lambda> at 0x000002937F145480> and will run it as-is.\n",
      "Please report this to the TensorFlow team. When filing the bug, set the verbosity to 10 (on Linux, `export AUTOGRAPH_VERBOSITY=10`) and attach the full output.\n",
      "Cause: 'NoneType' object has no attribute '__dict__'\n",
      "To silence this warning, decorate the function with @tf.autograph.experimental.do_not_convert\n",
      "6/6 [==============================] - 0s 12ms/step\n"
     ]
    }
   ],
   "source": [
    "forecast = model_forecast(model, pred_series, WINDOW_SIZE, BATCH_SIZE)"
   ]
  },
  {
   "cell_type": "code",
   "execution_count": 35,
   "id": "13b94b61",
   "metadata": {},
   "outputs": [],
   "source": [
    "results = forecast.squeeze()"
   ]
  },
  {
   "cell_type": "code",
   "execution_count": 36,
   "id": "1fd65bf2",
   "metadata": {},
   "outputs": [
    {
     "data": {
      "image/png": "[encoded data removed]",
      "text/plain": [
       "<Figure size 640x480 with 1 Axes>"
      ]
     },
     "metadata": {},
     "output_type": "display_data"
    }
   ],
   "source": [
    "plot_series(time_valid, (series_valid, results))"
   ]
  },
  {
   "cell_type": "code",
   "execution_count": null,
   "id": "50cc3c8d",
   "metadata": {},
   "outputs": [],
   "source": []
  }
 ],
 "metadata": {
  "kernelspec": {
   "display_name": "Python 3 (ipykernel)",
   "language": "python",
   "name": "python3"
  },
  "language_info": {
   "codemirror_mode": {
    "name": "ipython",
    "version": 3
   },
   "file_extension": ".py",
   "mimetype": "text/x-python",
   "name": "python",
   "nbconvert_exporter": "python",
   "pygments_lexer": "ipython3",
   "version": "3.10.9"
  }
 },
 "nbformat": 4,
 "nbformat_minor": 5
}
