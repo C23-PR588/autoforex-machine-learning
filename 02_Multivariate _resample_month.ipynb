{
 "cells": [
  {
   "cell_type": "code",
   "execution_count": 32,
   "metadata": {},
   "outputs": [],
   "source": [
    "%run function_and_library.ipynb"
   ]
  },
  {
   "cell_type": "code",
   "execution_count": 3,
   "metadata": {},
   "outputs": [
    {
     "name": "stderr",
     "output_type": "stream",
     "text": [
      "<ipython-input-3-e362a14860ee>:7: FutureWarning: The squeeze argument has been deprecated and will be removed in a future version. Append .squeeze(\"columns\") to the call to squeeze.\n",
      "\n",
      "\n",
      "  series = pd.read_csv('./currency_data_10_years.csv', header=0, parse_dates=[0], index_col=0, squeeze=True, date_parser=parser)\n"
     ]
    },
    {
     "data": {
      "text/html": [
       "<div>\n",
       "<style scoped>\n",
       "    .dataframe tbody tr th:only-of-type {\n",
       "        vertical-align: middle;\n",
       "    }\n",
       "\n",
       "    .dataframe tbody tr th {\n",
       "        vertical-align: top;\n",
       "    }\n",
       "\n",
       "    .dataframe thead th {\n",
       "        text-align: right;\n",
       "    }\n",
       "</style>\n",
       "<table border=\"1\" class=\"dataframe\">\n",
       "  <thead>\n",
       "    <tr style=\"text-align: right;\">\n",
       "      <th></th>\n",
       "      <th>EUR</th>\n",
       "      <th>USD</th>\n",
       "      <th>JPY</th>\n",
       "      <th>GBP</th>\n",
       "      <th>SGD</th>\n",
       "      <th>AUD</th>\n",
       "      <th>CNY</th>\n",
       "      <th>CAD</th>\n",
       "      <th>MYR</th>\n",
       "      <th>RUB</th>\n",
       "    </tr>\n",
       "    <tr>\n",
       "      <th>date</th>\n",
       "      <th></th>\n",
       "      <th></th>\n",
       "      <th></th>\n",
       "      <th></th>\n",
       "      <th></th>\n",
       "      <th></th>\n",
       "      <th></th>\n",
       "      <th></th>\n",
       "      <th></th>\n",
       "      <th></th>\n",
       "    </tr>\n",
       "  </thead>\n",
       "  <tbody>\n",
       "    <tr>\n",
       "      <th>2013-05-01</th>\n",
       "      <td>12816.661099</td>\n",
       "      <td>9721.95011</td>\n",
       "      <td>99.794970</td>\n",
       "      <td>15125.789759</td>\n",
       "      <td>7884.025975</td>\n",
       "      <td>9991.932116</td>\n",
       "      <td>1573.729510</td>\n",
       "      <td>9637.238781</td>\n",
       "      <td>3196.705985</td>\n",
       "      <td>311.579294</td>\n",
       "    </tr>\n",
       "    <tr>\n",
       "      <th>2013-05-02</th>\n",
       "      <td>12696.355896</td>\n",
       "      <td>9727.31307</td>\n",
       "      <td>99.371194</td>\n",
       "      <td>15096.787469</td>\n",
       "      <td>7878.089194</td>\n",
       "      <td>9976.629029</td>\n",
       "      <td>1576.636811</td>\n",
       "      <td>9620.049518</td>\n",
       "      <td>3193.114711</td>\n",
       "      <td>311.787545</td>\n",
       "    </tr>\n",
       "    <tr>\n",
       "      <th>2013-05-03</th>\n",
       "      <td>12735.428571</td>\n",
       "      <td>9726.93828</td>\n",
       "      <td>98.682506</td>\n",
       "      <td>15125.784565</td>\n",
       "      <td>7879.444847</td>\n",
       "      <td>10024.671009</td>\n",
       "      <td>1576.977359</td>\n",
       "      <td>9628.439345</td>\n",
       "      <td>3201.788787</td>\n",
       "      <td>312.272389</td>\n",
       "    </tr>\n",
       "    <tr>\n",
       "      <th>2013-05-04</th>\n",
       "      <td>12758.622548</td>\n",
       "      <td>9729.21521</td>\n",
       "      <td>98.372041</td>\n",
       "      <td>15148.170100</td>\n",
       "      <td>7886.016560</td>\n",
       "      <td>10037.051582</td>\n",
       "      <td>1577.842772</td>\n",
       "      <td>9643.293465</td>\n",
       "      <td>3204.827462</td>\n",
       "      <td>313.177271</td>\n",
       "    </tr>\n",
       "    <tr>\n",
       "      <th>2013-05-05</th>\n",
       "      <td>12719.240307</td>\n",
       "      <td>9697.65758</td>\n",
       "      <td>97.852512</td>\n",
       "      <td>15097.625177</td>\n",
       "      <td>7859.545641</td>\n",
       "      <td>9999.337595</td>\n",
       "      <td>1572.747845</td>\n",
       "      <td>9623.460698</td>\n",
       "      <td>3195.832412</td>\n",
       "      <td>312.291932</td>\n",
       "    </tr>\n",
       "  </tbody>\n",
       "</table>\n",
       "</div>"
      ],
      "text/plain": [
       "                     EUR         USD        JPY           GBP          SGD  \\\n",
       "date                                                                         \n",
       "2013-05-01  12816.661099  9721.95011  99.794970  15125.789759  7884.025975   \n",
       "2013-05-02  12696.355896  9727.31307  99.371194  15096.787469  7878.089194   \n",
       "2013-05-03  12735.428571  9726.93828  98.682506  15125.784565  7879.444847   \n",
       "2013-05-04  12758.622548  9729.21521  98.372041  15148.170100  7886.016560   \n",
       "2013-05-05  12719.240307  9697.65758  97.852512  15097.625177  7859.545641   \n",
       "\n",
       "                     AUD          CNY          CAD          MYR         RUB  \n",
       "date                                                                         \n",
       "2013-05-01   9991.932116  1573.729510  9637.238781  3196.705985  311.579294  \n",
       "2013-05-02   9976.629029  1576.636811  9620.049518  3193.114711  311.787545  \n",
       "2013-05-03  10024.671009  1576.977359  9628.439345  3201.788787  312.272389  \n",
       "2013-05-04  10037.051582  1577.842772  9643.293465  3204.827462  313.177271  \n",
       "2013-05-05   9999.337595  1572.747845  9623.460698  3195.832412  312.291932  "
      ]
     },
     "execution_count": 3,
     "metadata": {},
     "output_type": "execute_result"
    }
   ],
   "source": [
    "from datetime import datetime\n",
    "import pandas as pd\n",
    "\n",
    "def parser(x):\n",
    "    return datetime.strptime(x, '%Y-%m-%d')\n",
    "\n",
    "series = pd.read_csv('./currency_data_10_years.csv', header=0, parse_dates=[0], index_col=0, squeeze=True, date_parser=parser)\n",
    "\n",
    "series_eur = series['EUR']\n"
   ]
  },
  {
   "cell_type": "code",
   "execution_count": 4,
   "metadata": {},
   "outputs": [
    {
     "data": {
      "text/plain": [
       "date\n",
       "2013-05-01    12816.661099\n",
       "2013-05-02    12696.355896\n",
       "2013-05-03    12735.428571\n",
       "2013-05-04    12758.622548\n",
       "2013-05-05    12719.240307\n",
       "                  ...     \n",
       "2023-04-27    16209.481958\n",
       "2023-04-28    16327.538019\n",
       "2023-04-29    16327.528027\n",
       "2023-04-30    16152.482580\n",
       "2023-05-01    16098.499876\n",
       "Name: EUR, Length: 3653, dtype: float64"
      ]
     },
     "execution_count": 4,
     "metadata": {},
     "output_type": "execute_result"
    }
   ],
   "source": [
    "series_eur = series['EUR']\n",
    "series_eur"
   ]
  },
  {
   "cell_type": "code",
   "execution_count": 11,
   "metadata": {},
   "outputs": [
    {
     "name": "stdout",
     "output_type": "stream",
     "text": [
      "              open_price    high_price     low_price  average_price  \\\n",
      "date                                                                  \n",
      "2013-05-31  12816.661099  12816.661099  12502.789487   12655.264834   \n",
      "2013-06-30  12729.886440  13261.625705  12668.908588   12998.235253   \n",
      "2013-07-31  12954.783369  13675.596727  12744.757092   13173.476435   \n",
      "2013-08-31  13598.694313  14689.485169  13598.694313   14048.903701   \n",
      "2013-09-30  14491.357203  15554.783405  14491.357203   15104.188527   \n",
      "...                  ...           ...           ...            ...   \n",
      "2022-12-31  16171.543685  16781.562602  16171.543685   16500.563327   \n",
      "2023-01-31  16633.227781  16732.329959  16277.089666   16435.881658   \n",
      "2023-02-28  16395.400296  16395.400296  16111.326556   16234.291448   \n",
      "2023-03-31  16269.240315  16585.516821  16234.629121   16390.375778   \n",
      "2023-04-30  16272.044611  16575.295305  16147.622286   16343.558577   \n",
      "\n",
      "            closed_price  \n",
      "date                      \n",
      "2013-05-31  12747.821706  \n",
      "2013-06-30  12805.545848  \n",
      "2013-07-31  13675.596727  \n",
      "2013-08-31  14577.979394  \n",
      "2013-09-30  15554.783405  \n",
      "...                  ...  \n",
      "2022-12-31  16667.750195  \n",
      "2023-01-31  16290.887963  \n",
      "2023-02-28  16128.645770  \n",
      "2023-03-31  16272.050275  \n",
      "2023-04-30  16152.482580  \n",
      "\n",
      "[120 rows x 5 columns]\n"
     ]
    }
   ],
   "source": [
    "monthly_data = series_eur.resample('M').agg({'open_price': 'first', 'high_price': 'max', 'low_price': 'min', 'average_price': 'mean', 'closed_price': 'last'})\n",
    "monthly_data = monthly_data.drop(monthly_data.index[-1])\n",
    "print(monthly_data)"
   ]
  },
  {
   "cell_type": "code",
   "execution_count": 18,
   "metadata": {},
   "outputs": [],
   "source": [
    "time_step=[]\n",
    "for i in range(len(monthly_data)):\n",
    "        time_step.append(int(i))\n",
    "\n",
    "# Convert lists to numpy arrays\n",
    "time = np.array(time_step)"
   ]
  },
  {
   "cell_type": "code",
   "execution_count": 59,
   "metadata": {},
   "outputs": [],
   "source": [
    "split_time = 100\n",
    "\n",
    "x_train = monthly_data[:split_time]\n",
    "time_train = time[:split_time]\n",
    "\n",
    "x_valid = monthly_data[split_time:]\n",
    "time_valid = time[split_time:]\n",
    "\n",
    "window_size = 12\n",
    "batch_size = 32\n",
    "shuffle_buffer_size = 1000\n",
    "num_features = monthly_data.shape[1]\n",
    "\n",
    "train_set = windowed_dataset(x_train, window_size, batch_size, shuffle_buffer_size)\n",
    "valid_set = windowed_dataset(x_valid, window_size, batch_size, shuffle_buffer_size)"
   ]
  },
  {
   "cell_type": "code",
   "execution_count": 109,
   "metadata": {
    "scrolled": true
   },
   "outputs": [
    {
     "name": "stdout",
     "output_type": "stream",
     "text": [
      "Model: \"model_22222\"\n",
      "_________________________________________________________________\n",
      " Layer (type)                Output Shape              Param #   \n",
      "=================================================================\n",
      " dense (Dense)               (None, 12, 128)           768       \n",
      "                                                                 \n",
      " flatten (Flatten)           (None, 1536)              0         \n",
      "                                                                 \n",
      " dense_1 (Dense)             (None, 32)                49184     \n",
      "                                                                 \n",
      " dense_2 (Dense)             (None, 1)                 33        \n",
      "                                                                 \n",
      "=================================================================\n",
      "Total params: 49,985\n",
      "Trainable params: 49,985\n",
      "Non-trainable params: 0\n",
      "_________________________________________________________________\n",
      "Epoch 1/100\n",
      "      1/Unknown - 1s 1s/step - loss: 8945.2539 - mae: 8945.7539"
     ]
    },
    {
     "name": "stderr",
     "output_type": "stream",
     "text": [
      "WARNING:absl:Found untraced functions such as _update_step_xla while saving (showing 1 of 1). These functions will not be directly callable after loading.\n"
     ]
    },
    {
     "name": "stdout",
     "output_type": "stream",
     "text": [
      "INFO:tensorflow:Assets written to: model_experiments\\model_22222\\assets\n"
     ]
    },
    {
     "name": "stderr",
     "output_type": "stream",
     "text": [
      "INFO:tensorflow:Assets written to: model_experiments\\model_22222\\assets\n"
     ]
    },
    {
     "name": "stdout",
     "output_type": "stream",
     "text": [
      "3/3 [==============================] - 3s 807ms/step - loss: 4906.0220 - mae: 4906.5220 - val_loss: 3279.5217 - val_mae: 3280.0217\n",
      "Epoch 2/100\n",
      "1/3 [=========>....................] - ETA: 0s - loss: 3506.5481 - mae: 3507.0481"
     ]
    },
    {
     "name": "stderr",
     "output_type": "stream",
     "text": [
      "WARNING:absl:Found untraced functions such as _update_step_xla while saving (showing 1 of 1). These functions will not be directly callable after loading.\n"
     ]
    },
    {
     "name": "stdout",
     "output_type": "stream",
     "text": [
      "INFO:tensorflow:Assets written to: model_experiments\\model_22222\\assets\n"
     ]
    },
    {
     "name": "stderr",
     "output_type": "stream",
     "text": [
      "INFO:tensorflow:Assets written to: model_experiments\\model_22222\\assets\n"
     ]
    },
    {
     "name": "stdout",
     "output_type": "stream",
     "text": [
      "3/3 [==============================] - 1s 549ms/step - loss: 2650.9568 - mae: 2651.4568 - val_loss: 1215.4769 - val_mae: 1215.9769\n",
      "Epoch 3/100\n",
      "3/3 [==============================] - 0s 21ms/step - loss: 1625.6232 - mae: 1626.1232 - val_loss: 1419.5546 - val_mae: 1420.0546\n",
      "Epoch 4/100\n",
      "3/3 [==============================] - 0s 22ms/step - loss: 1119.8315 - mae: 1120.3315 - val_loss: 1491.1956 - val_mae: 1491.6956\n",
      "Epoch 5/100\n",
      "1/3 [=========>....................] - ETA: 0s - loss: 1599.9335 - mae: 1600.4335"
     ]
    },
    {
     "name": "stderr",
     "output_type": "stream",
     "text": [
      "WARNING:absl:Found untraced functions such as _update_step_xla while saving (showing 1 of 1). These functions will not be directly callable after loading.\n"
     ]
    },
    {
     "name": "stdout",
     "output_type": "stream",
     "text": [
      "INFO:tensorflow:Assets written to: model_experiments\\model_22222\\assets\n"
     ]
    },
    {
     "name": "stderr",
     "output_type": "stream",
     "text": [
      "INFO:tensorflow:Assets written to: model_experiments\\model_22222\\assets\n"
     ]
    },
    {
     "name": "stdout",
     "output_type": "stream",
     "text": [
      "3/3 [==============================] - 1s 605ms/step - loss: 1261.2163 - mae: 1261.7163 - val_loss: 1072.3333 - val_mae: 1072.8333\n",
      "Epoch 6/100\n",
      "1/3 [=========>....................] - ETA: 0s - loss: 973.1208 - mae: 973.6208"
     ]
    },
    {
     "name": "stderr",
     "output_type": "stream",
     "text": [
      "WARNING:absl:Found untraced functions such as _update_step_xla while saving (showing 1 of 1). These functions will not be directly callable after loading.\n"
     ]
    },
    {
     "name": "stdout",
     "output_type": "stream",
     "text": [
      "INFO:tensorflow:Assets written to: model_experiments\\model_22222\\assets\n"
     ]
    },
    {
     "name": "stderr",
     "output_type": "stream",
     "text": [
      "INFO:tensorflow:Assets written to: model_experiments\\model_22222\\assets\n"
     ]
    },
    {
     "name": "stdout",
     "output_type": "stream",
     "text": [
      "3/3 [==============================] - 1s 657ms/step - loss: 1106.6534 - mae: 1107.1534 - val_loss: 983.8344 - val_mae: 984.3344\n",
      "Epoch 7/100\n",
      "1/3 [=========>....................] - ETA: 0s - loss: 668.0397 - mae: 668.5396"
     ]
    },
    {
     "name": "stderr",
     "output_type": "stream",
     "text": [
      "WARNING:absl:Found untraced functions such as _update_step_xla while saving (showing 1 of 1). These functions will not be directly callable after loading.\n"
     ]
    },
    {
     "name": "stdout",
     "output_type": "stream",
     "text": [
      "INFO:tensorflow:Assets written to: model_experiments\\model_22222\\assets\n"
     ]
    },
    {
     "name": "stderr",
     "output_type": "stream",
     "text": [
      "INFO:tensorflow:Assets written to: model_experiments\\model_22222\\assets\n"
     ]
    },
    {
     "name": "stdout",
     "output_type": "stream",
     "text": [
      "3/3 [==============================] - 1s 591ms/step - loss: 766.8353 - mae: 767.3348 - val_loss: 697.4985 - val_mae: 697.9985\n",
      "Epoch 8/100\n",
      "3/3 [==============================] - 0s 22ms/step - loss: 915.5172 - mae: 916.0162 - val_loss: 960.7212 - val_mae: 961.2212\n",
      "Epoch 9/100\n",
      "3/3 [==============================] - 0s 25ms/step - loss: 901.7169 - mae: 902.2168 - val_loss: 849.9753 - val_mae: 850.4753\n",
      "Epoch 10/100\n",
      "1/3 [=========>....................] - ETA: 0s - loss: 568.8198 - mae: 569.3198"
     ]
    },
    {
     "name": "stderr",
     "output_type": "stream",
     "text": [
      "WARNING:absl:Found untraced functions such as _update_step_xla while saving (showing 1 of 1). These functions will not be directly callable after loading.\n"
     ]
    },
    {
     "name": "stdout",
     "output_type": "stream",
     "text": [
      "INFO:tensorflow:Assets written to: model_experiments\\model_22222\\assets\n"
     ]
    },
    {
     "name": "stderr",
     "output_type": "stream",
     "text": [
      "INFO:tensorflow:Assets written to: model_experiments\\model_22222\\assets\n"
     ]
    },
    {
     "name": "stdout",
     "output_type": "stream",
     "text": [
      "3/3 [==============================] - 1s 514ms/step - loss: 710.3025 - mae: 710.8021 - val_loss: 614.6974 - val_mae: 615.1974\n",
      "Epoch 11/100\n",
      "3/3 [==============================] - 0s 21ms/step - loss: 852.2095 - mae: 852.7094 - val_loss: 891.5378 - val_mae: 892.0378\n",
      "Epoch 12/100\n",
      "3/3 [==============================] - 0s 22ms/step - loss: 726.4751 - mae: 726.9744 - val_loss: 848.9761 - val_mae: 849.4761\n",
      "Epoch 13/100\n",
      "3/3 [==============================] - 0s 23ms/step - loss: 747.5678 - mae: 748.0678 - val_loss: 720.6722 - val_mae: 721.1722\n",
      "Epoch 14/100\n",
      "3/3 [==============================] - 0s 25ms/step - loss: 707.4285 - mae: 707.9285 - val_loss: 886.3757 - val_mae: 886.8757\n",
      "Epoch 15/100\n",
      "3/3 [==============================] - 0s 23ms/step - loss: 736.6438 - mae: 737.1438 - val_loss: 697.7576 - val_mae: 698.2576\n",
      "Epoch 16/100\n",
      "3/3 [==============================] - 0s 26ms/step - loss: 739.2654 - mae: 739.7654 - val_loss: 856.6345 - val_mae: 857.1345\n",
      "Epoch 17/100\n",
      "3/3 [==============================] - 0s 26ms/step - loss: 685.3027 - mae: 685.8027 - val_loss: 656.6208 - val_mae: 657.1208\n",
      "Epoch 18/100\n",
      "3/3 [==============================] - 0s 26ms/step - loss: 674.6311 - mae: 675.1311 - val_loss: 905.3121 - val_mae: 905.8121\n",
      "Epoch 19/100\n",
      "3/3 [==============================] - 0s 23ms/step - loss: 705.9604 - mae: 706.4604 - val_loss: 755.5956 - val_mae: 756.0956\n",
      "Epoch 20/100\n",
      "3/3 [==============================] - 0s 23ms/step - loss: 657.4274 - mae: 657.9270 - val_loss: 711.4873 - val_mae: 711.9873\n",
      "Epoch 21/100\n",
      "3/3 [==============================] - 0s 27ms/step - loss: 641.5603 - mae: 642.0600 - val_loss: 841.4978 - val_mae: 841.9978\n",
      "Epoch 22/100\n",
      "3/3 [==============================] - 0s 30ms/step - loss: 646.2747 - mae: 646.7747 - val_loss: 694.6995 - val_mae: 695.1995\n",
      "Epoch 23/100\n",
      "3/3 [==============================] - 0s 22ms/step - loss: 634.2895 - mae: 634.7895 - val_loss: 798.8824 - val_mae: 799.3824\n",
      "Epoch 24/100\n",
      "3/3 [==============================] - 0s 25ms/step - loss: 653.4122 - mae: 653.9122 - val_loss: 751.5903 - val_mae: 752.0903\n",
      "Epoch 25/100\n",
      "3/3 [==============================] - 0s 25ms/step - loss: 627.1918 - mae: 627.6917 - val_loss: 752.1691 - val_mae: 752.6691\n",
      "Epoch 26/100\n",
      "3/3 [==============================] - 0s 22ms/step - loss: 635.4077 - mae: 635.9077 - val_loss: 707.9302 - val_mae: 708.4302\n",
      "Epoch 27/100\n",
      "3/3 [==============================] - 0s 22ms/step - loss: 595.0916 - mae: 595.5916 - val_loss: 836.9502 - val_mae: 837.4502\n",
      "Epoch 28/100\n",
      "3/3 [==============================] - 0s 24ms/step - loss: 609.6672 - mae: 610.1672 - val_loss: 623.0697 - val_mae: 623.5697\n",
      "Epoch 29/100\n",
      "3/3 [==============================] - 0s 21ms/step - loss: 603.7111 - mae: 604.2111 - val_loss: 788.4091 - val_mae: 788.9091\n",
      "Epoch 30/100\n",
      "3/3 [==============================] - 0s 25ms/step - loss: 594.0457 - mae: 594.5426 - val_loss: 733.0534 - val_mae: 733.5534\n",
      "Epoch 31/100\n",
      "1/3 [=========>....................] - ETA: 0s - loss: 498.9518 - mae: 499.4518"
     ]
    },
    {
     "name": "stderr",
     "output_type": "stream",
     "text": [
      "WARNING:absl:Found untraced functions such as _update_step_xla while saving (showing 1 of 1). These functions will not be directly callable after loading.\n"
     ]
    },
    {
     "name": "stdout",
     "output_type": "stream",
     "text": [
      "INFO:tensorflow:Assets written to: model_experiments\\model_22222\\assets\n"
     ]
    },
    {
     "name": "stderr",
     "output_type": "stream",
     "text": [
      "INFO:tensorflow:Assets written to: model_experiments\\model_22222\\assets\n"
     ]
    },
    {
     "name": "stdout",
     "output_type": "stream",
     "text": [
      "3/3 [==============================] - 1s 571ms/step - loss: 613.6930 - mae: 614.1930 - val_loss: 555.0091 - val_mae: 555.5091\n",
      "Epoch 32/100\n",
      "3/3 [==============================] - 0s 23ms/step - loss: 663.5681 - mae: 664.0681 - val_loss: 837.4690 - val_mae: 837.9690\n",
      "Epoch 33/100\n",
      "1/3 [=========>....................] - ETA: 0s - loss: 731.9456 - mae: 732.4456"
     ]
    },
    {
     "name": "stderr",
     "output_type": "stream",
     "text": [
      "WARNING:absl:Found untraced functions such as _update_step_xla while saving (showing 1 of 1). These functions will not be directly callable after loading.\n"
     ]
    },
    {
     "name": "stdout",
     "output_type": "stream",
     "text": [
      "INFO:tensorflow:Assets written to: model_experiments\\model_22222\\assets\n"
     ]
    },
    {
     "name": "stderr",
     "output_type": "stream",
     "text": [
      "INFO:tensorflow:Assets written to: model_experiments\\model_22222\\assets\n"
     ]
    },
    {
     "name": "stdout",
     "output_type": "stream",
     "text": [
      "3/3 [==============================] - 1s 591ms/step - loss: 661.9553 - mae: 662.4553 - val_loss: 487.3105 - val_mae: 487.8104\n",
      "Epoch 34/100\n",
      "3/3 [==============================] - 0s 24ms/step - loss: 793.4166 - mae: 793.9166 - val_loss: 912.8192 - val_mae: 913.3192\n",
      "Epoch 35/100\n",
      "3/3 [==============================] - 0s 23ms/step - loss: 644.2485 - mae: 644.7477 - val_loss: 526.2043 - val_mae: 526.7043\n",
      "Epoch 36/100\n",
      "3/3 [==============================] - 0s 21ms/step - loss: 632.8435 - mae: 633.3435 - val_loss: 1047.4763 - val_mae: 1047.9763\n",
      "Epoch 37/100\n",
      "3/3 [==============================] - 0s 21ms/step - loss: 695.6350 - mae: 696.1350 - val_loss: 493.8728 - val_mae: 494.3728\n",
      "Epoch 38/100\n",
      "3/3 [==============================] - 0s 22ms/step - loss: 689.5105 - mae: 690.0105 - val_loss: 815.8975 - val_mae: 816.3975\n",
      "Epoch 39/100\n",
      "3/3 [==============================] - 0s 24ms/step - loss: 570.5629 - mae: 571.0626 - val_loss: 635.8708 - val_mae: 636.3708\n",
      "Epoch 40/100\n",
      "3/3 [==============================] - 0s 24ms/step - loss: 563.5237 - mae: 564.0237 - val_loss: 623.7518 - val_mae: 624.2518\n",
      "Epoch 41/100\n",
      "3/3 [==============================] - 0s 24ms/step - loss: 563.5609 - mae: 564.0609 - val_loss: 757.6530 - val_mae: 758.1530\n",
      "Epoch 42/100\n",
      "3/3 [==============================] - 0s 23ms/step - loss: 595.0593 - mae: 595.5593 - val_loss: 515.1879 - val_mae: 515.6879\n",
      "Epoch 43/100\n",
      "3/3 [==============================] - 0s 23ms/step - loss: 588.7185 - mae: 589.2185 - val_loss: 756.9265 - val_mae: 757.4265\n",
      "Epoch 44/100\n",
      "3/3 [==============================] - 0s 25ms/step - loss: 513.8701 - mae: 514.3701 - val_loss: 534.3994 - val_mae: 534.8994\n",
      "Epoch 45/100\n",
      "3/3 [==============================] - 0s 24ms/step - loss: 529.1139 - mae: 529.6139 - val_loss: 765.4097 - val_mae: 765.9097\n",
      "Epoch 46/100\n",
      "3/3 [==============================] - 0s 23ms/step - loss: 559.3127 - mae: 559.8127 - val_loss: 639.0355 - val_mae: 639.5355\n",
      "Epoch 47/100\n",
      "3/3 [==============================] - 0s 22ms/step - loss: 553.9143 - mae: 554.4143 - val_loss: 536.0977 - val_mae: 536.5977\n",
      "Epoch 48/100\n",
      "3/3 [==============================] - 0s 21ms/step - loss: 497.8518 - mae: 498.3518 - val_loss: 787.2235 - val_mae: 787.7235\n",
      "Epoch 49/100\n",
      "3/3 [==============================] - 0s 25ms/step - loss: 492.4168 - mae: 492.9165 - val_loss: 550.0267 - val_mae: 550.5267\n",
      "Epoch 50/100\n",
      "3/3 [==============================] - 0s 24ms/step - loss: 497.9350 - mae: 498.4341 - val_loss: 681.6235 - val_mae: 682.1235\n",
      "Epoch 51/100\n",
      "3/3 [==============================] - 0s 22ms/step - loss: 520.6309 - mae: 521.1302 - val_loss: 809.8210 - val_mae: 810.3210\n",
      "Epoch 52/100\n",
      "3/3 [==============================] - 0s 22ms/step - loss: 513.6908 - mae: 514.1907 - val_loss: 549.6904 - val_mae: 550.1904\n",
      "Epoch 53/100\n",
      "3/3 [==============================] - 0s 22ms/step - loss: 454.5214 - mae: 455.0214 - val_loss: 764.6165 - val_mae: 765.1165\n",
      "Epoch 54/100\n",
      "3/3 [==============================] - 0s 23ms/step - loss: 456.7690 - mae: 457.2690 - val_loss: 495.9951 - val_mae: 496.4951\n",
      "Epoch 55/100\n",
      "1/3 [=========>....................] - ETA: 0s - loss: 522.0855 - mae: 522.5855"
     ]
    },
    {
     "name": "stderr",
     "output_type": "stream",
     "text": [
      "WARNING:absl:Found untraced functions such as _update_step_xla while saving (showing 1 of 1). These functions will not be directly callable after loading.\n"
     ]
    },
    {
     "name": "stdout",
     "output_type": "stream",
     "text": [
      "INFO:tensorflow:Assets written to: model_experiments\\model_22222\\assets\n"
     ]
    },
    {
     "name": "stderr",
     "output_type": "stream",
     "text": [
      "INFO:tensorflow:Assets written to: model_experiments\\model_22222\\assets\n"
     ]
    },
    {
     "name": "stdout",
     "output_type": "stream",
     "text": [
      "3/3 [==============================] - 1s 647ms/step - loss: 517.5670 - mae: 518.0670 - val_loss: 467.5349 - val_mae: 468.0349\n",
      "Epoch 56/100\n",
      "3/3 [==============================] - 0s 24ms/step - loss: 521.9848 - mae: 522.4848 - val_loss: 734.4664 - val_mae: 734.9664\n",
      "Epoch 57/100\n",
      "3/3 [==============================] - 0s 24ms/step - loss: 441.6235 - mae: 442.1235 - val_loss: 522.9769 - val_mae: 523.4666\n",
      "Epoch 58/100\n",
      "3/3 [==============================] - 0s 25ms/step - loss: 480.8699 - mae: 481.3691 - val_loss: 593.7858 - val_mae: 594.2858\n",
      "Epoch 59/100\n",
      "3/3 [==============================] - 0s 27ms/step - loss: 426.9166 - mae: 427.4166 - val_loss: 600.3282 - val_mae: 600.8282\n",
      "Epoch 60/100\n",
      "3/3 [==============================] - 0s 23ms/step - loss: 427.2168 - mae: 427.7168 - val_loss: 480.3324 - val_mae: 480.8324\n",
      "Epoch 61/100\n",
      "3/3 [==============================] - 0s 22ms/step - loss: 456.6818 - mae: 457.1816 - val_loss: 548.2925 - val_mae: 548.7925\n",
      "Epoch 62/100\n",
      "3/3 [==============================] - 0s 21ms/step - loss: 454.9042 - mae: 455.4040 - val_loss: 661.4319 - val_mae: 661.9319\n",
      "Epoch 63/100\n",
      "3/3 [==============================] - 0s 25ms/step - loss: 522.6509 - mae: 523.1503 - val_loss: 925.4391 - val_mae: 925.9391\n",
      "Epoch 64/100\n",
      "1/3 [=========>....................] - ETA: 0s - loss: 625.7859 - mae: 626.2841"
     ]
    },
    {
     "name": "stderr",
     "output_type": "stream",
     "text": [
      "WARNING:absl:Found untraced functions such as _update_step_xla while saving (showing 1 of 1). These functions will not be directly callable after loading.\n"
     ]
    },
    {
     "name": "stdout",
     "output_type": "stream",
     "text": [
      "INFO:tensorflow:Assets written to: model_experiments\\model_22222\\assets\n"
     ]
    },
    {
     "name": "stderr",
     "output_type": "stream",
     "text": [
      "INFO:tensorflow:Assets written to: model_experiments\\model_22222\\assets\n"
     ]
    },
    {
     "name": "stdout",
     "output_type": "stream",
     "text": [
      "3/3 [==============================] - 1s 580ms/step - loss: 565.8365 - mae: 566.3356 - val_loss: 412.1971 - val_mae: 412.6971\n",
      "Epoch 65/100\n",
      "3/3 [==============================] - 0s 20ms/step - loss: 540.8926 - mae: 541.3918 - val_loss: 528.8379 - val_mae: 529.3379\n",
      "Epoch 66/100\n",
      "3/3 [==============================] - 0s 21ms/step - loss: 440.0716 - mae: 440.5716 - val_loss: 821.6520 - val_mae: 822.1520\n",
      "Epoch 67/100\n",
      "1/3 [=========>....................] - ETA: 0s - loss: 477.1796 - mae: 477.6796"
     ]
    },
    {
     "name": "stderr",
     "output_type": "stream",
     "text": [
      "WARNING:absl:Found untraced functions such as _update_step_xla while saving (showing 1 of 1). These functions will not be directly callable after loading.\n"
     ]
    },
    {
     "name": "stdout",
     "output_type": "stream",
     "text": [
      "INFO:tensorflow:Assets written to: model_experiments\\model_22222\\assets\n"
     ]
    },
    {
     "name": "stderr",
     "output_type": "stream",
     "text": [
      "INFO:tensorflow:Assets written to: model_experiments\\model_22222\\assets\n"
     ]
    },
    {
     "name": "stdout",
     "output_type": "stream",
     "text": [
      "3/3 [==============================] - 1s 509ms/step - loss: 479.0599 - mae: 479.5599 - val_loss: 411.1484 - val_mae: 411.6484\n",
      "Epoch 68/100\n",
      "3/3 [==============================] - 0s 23ms/step - loss: 492.1753 - mae: 492.6737 - val_loss: 517.5380 - val_mae: 518.0380\n",
      "Epoch 69/100\n",
      "3/3 [==============================] - 0s 33ms/step - loss: 439.3557 - mae: 439.8557 - val_loss: 523.6218 - val_mae: 524.1218\n",
      "Epoch 70/100\n",
      "3/3 [==============================] - 0s 36ms/step - loss: 417.6501 - mae: 418.1494 - val_loss: 781.4922 - val_mae: 781.9922\n",
      "Epoch 71/100\n",
      "3/3 [==============================] - 0s 22ms/step - loss: 495.5375 - mae: 496.0375 - val_loss: 811.4062 - val_mae: 811.9062\n",
      "Epoch 72/100\n",
      "3/3 [==============================] - 0s 24ms/step - loss: 484.3700 - mae: 484.8700 - val_loss: 414.0931 - val_mae: 414.5931\n",
      "Epoch 73/100\n",
      "3/3 [==============================] - 0s 28ms/step - loss: 495.0908 - mae: 495.5908 - val_loss: 479.5682 - val_mae: 480.0682\n",
      "Epoch 74/100\n",
      "3/3 [==============================] - 0s 24ms/step - loss: 415.9854 - mae: 416.4854 - val_loss: 451.4549 - val_mae: 451.9549\n",
      "Epoch 75/100\n",
      "3/3 [==============================] - 0s 21ms/step - loss: 407.6666 - mae: 408.1666 - val_loss: 600.5329 - val_mae: 601.0329\n",
      "Epoch 76/100\n",
      "3/3 [==============================] - 0s 23ms/step - loss: 389.8738 - mae: 390.3732 - val_loss: 493.4893 - val_mae: 493.9893\n",
      "Epoch 77/100\n",
      "1/3 [=========>....................] - ETA: 0s - loss: 475.5407 - mae: 476.0407"
     ]
    },
    {
     "name": "stderr",
     "output_type": "stream",
     "text": [
      "WARNING:absl:Found untraced functions such as _update_step_xla while saving (showing 1 of 1). These functions will not be directly callable after loading.\n"
     ]
    },
    {
     "name": "stdout",
     "output_type": "stream",
     "text": [
      "INFO:tensorflow:Assets written to: model_experiments\\model_22222\\assets\n"
     ]
    },
    {
     "name": "stderr",
     "output_type": "stream",
     "text": [
      "INFO:tensorflow:Assets written to: model_experiments\\model_22222\\assets\n"
     ]
    },
    {
     "name": "stdout",
     "output_type": "stream",
     "text": [
      "3/3 [==============================] - 1s 595ms/step - loss: 400.1721 - mae: 400.6717 - val_loss: 406.6987 - val_mae: 407.1987\n",
      "Epoch 78/100\n",
      "3/3 [==============================] - 0s 21ms/step - loss: 482.5868 - mae: 483.0868 - val_loss: 676.3522 - val_mae: 676.8522\n",
      "Epoch 79/100\n",
      "3/3 [==============================] - 0s 22ms/step - loss: 493.2282 - mae: 493.7272 - val_loss: 697.4264 - val_mae: 697.9264\n",
      "Epoch 80/100\n",
      "3/3 [==============================] - 0s 22ms/step - loss: 408.4013 - mae: 408.9004 - val_loss: 474.6448 - val_mae: 475.1445\n",
      "Epoch 81/100\n",
      "3/3 [==============================] - 0s 22ms/step - loss: 392.6716 - mae: 393.1716 - val_loss: 444.4335 - val_mae: 444.9335\n",
      "Epoch 82/100\n",
      "3/3 [==============================] - 0s 21ms/step - loss: 464.4733 - mae: 464.9733 - val_loss: 538.5532 - val_mae: 539.0532\n",
      "Epoch 83/100\n",
      "3/3 [==============================] - 0s 20ms/step - loss: 456.8748 - mae: 457.3744 - val_loss: 894.8909 - val_mae: 895.3909\n",
      "Epoch 84/100\n",
      "3/3 [==============================] - 0s 22ms/step - loss: 475.5470 - mae: 476.0470 - val_loss: 421.2498 - val_mae: 421.7498\n",
      "Epoch 85/100\n",
      "3/3 [==============================] - 0s 21ms/step - loss: 382.7409 - mae: 383.2406 - val_loss: 500.4740 - val_mae: 500.9740\n",
      "Epoch 86/100\n",
      "3/3 [==============================] - 0s 23ms/step - loss: 366.4668 - mae: 366.9668 - val_loss: 496.1017 - val_mae: 496.6017\n",
      "Epoch 87/100\n",
      "1/3 [=========>....................] - ETA: 0s - loss: 383.3174 - mae: 383.8174"
     ]
    },
    {
     "name": "stderr",
     "output_type": "stream",
     "text": [
      "WARNING:absl:Found untraced functions such as _update_step_xla while saving (showing 1 of 1). These functions will not be directly callable after loading.\n"
     ]
    },
    {
     "name": "stdout",
     "output_type": "stream",
     "text": [
      "INFO:tensorflow:Assets written to: model_experiments\\model_22222\\assets\n"
     ]
    },
    {
     "name": "stderr",
     "output_type": "stream",
     "text": [
      "INFO:tensorflow:Assets written to: model_experiments\\model_22222\\assets\n"
     ]
    },
    {
     "name": "stdout",
     "output_type": "stream",
     "text": [
      "3/3 [==============================] - 1s 553ms/step - loss: 374.0920 - mae: 374.5920 - val_loss: 378.7762 - val_mae: 379.2762\n",
      "Epoch 88/100\n",
      "3/3 [==============================] - 0s 21ms/step - loss: 429.7625 - mae: 430.2624 - val_loss: 584.8013 - val_mae: 585.3013\n",
      "Epoch 89/100\n",
      "3/3 [==============================] - 0s 21ms/step - loss: 372.6666 - mae: 373.1657 - val_loss: 591.5592 - val_mae: 592.0592\n",
      "Epoch 90/100\n",
      "3/3 [==============================] - 0s 21ms/step - loss: 399.3102 - mae: 399.8094 - val_loss: 485.0792 - val_mae: 485.5792\n",
      "Epoch 91/100\n",
      "1/3 [=========>....................] - ETA: 0s - loss: 344.2084 - mae: 344.7082"
     ]
    },
    {
     "name": "stderr",
     "output_type": "stream",
     "text": [
      "WARNING:absl:Found untraced functions such as _update_step_xla while saving (showing 1 of 1). These functions will not be directly callable after loading.\n"
     ]
    },
    {
     "name": "stdout",
     "output_type": "stream",
     "text": [
      "INFO:tensorflow:Assets written to: model_experiments\\model_22222\\assets\n"
     ]
    },
    {
     "name": "stderr",
     "output_type": "stream",
     "text": [
      "INFO:tensorflow:Assets written to: model_experiments\\model_22222\\assets\n"
     ]
    },
    {
     "name": "stdout",
     "output_type": "stream",
     "text": [
      "3/3 [==============================] - 1s 525ms/step - loss: 383.2070 - mae: 383.7069 - val_loss: 373.7244 - val_mae: 374.2244\n",
      "Epoch 92/100\n",
      "3/3 [==============================] - 0s 21ms/step - loss: 464.3498 - mae: 464.8495 - val_loss: 502.6003 - val_mae: 503.1003\n",
      "Epoch 93/100\n",
      "3/3 [==============================] - 0s 22ms/step - loss: 411.2054 - mae: 411.7054 - val_loss: 881.5291 - val_mae: 882.0291\n",
      "Epoch 94/100\n",
      "1/3 [=========>....................] - ETA: 0s - loss: 520.8123 - mae: 521.3123"
     ]
    },
    {
     "name": "stderr",
     "output_type": "stream",
     "text": [
      "WARNING:absl:Found untraced functions such as _update_step_xla while saving (showing 1 of 1). These functions will not be directly callable after loading.\n"
     ]
    },
    {
     "name": "stdout",
     "output_type": "stream",
     "text": [
      "INFO:tensorflow:Assets written to: model_experiments\\model_22222\\assets\n"
     ]
    },
    {
     "name": "stderr",
     "output_type": "stream",
     "text": [
      "INFO:tensorflow:Assets written to: model_experiments\\model_22222\\assets\n"
     ]
    },
    {
     "name": "stdout",
     "output_type": "stream",
     "text": [
      "3/3 [==============================] - 1s 496ms/step - loss: 444.1465 - mae: 444.6465 - val_loss: 370.4926 - val_mae: 370.9926\n",
      "Epoch 95/100\n",
      "3/3 [==============================] - 0s 21ms/step - loss: 507.3782 - mae: 507.8782 - val_loss: 379.0013 - val_mae: 379.5013\n",
      "Epoch 96/100\n",
      "3/3 [==============================] - 0s 20ms/step - loss: 542.5517 - mae: 543.0517 - val_loss: 767.0848 - val_mae: 767.5848\n",
      "Epoch 97/100\n",
      "3/3 [==============================] - 0s 21ms/step - loss: 527.0468 - mae: 527.5467 - val_loss: 624.8019 - val_mae: 625.3019\n",
      "Epoch 98/100\n",
      "3/3 [==============================] - 0s 22ms/step - loss: 433.3695 - mae: 433.8695 - val_loss: 418.5501 - val_mae: 419.0501\n",
      "Epoch 99/100\n",
      "1/3 [=========>....................] - ETA: 0s - loss: 382.6013 - mae: 383.1013"
     ]
    },
    {
     "name": "stderr",
     "output_type": "stream",
     "text": [
      "WARNING:absl:Found untraced functions such as _update_step_xla while saving (showing 1 of 1). These functions will not be directly callable after loading.\n"
     ]
    },
    {
     "name": "stdout",
     "output_type": "stream",
     "text": [
      "INFO:tensorflow:Assets written to: model_experiments\\model_22222\\assets\n"
     ]
    },
    {
     "name": "stderr",
     "output_type": "stream",
     "text": [
      "INFO:tensorflow:Assets written to: model_experiments\\model_22222\\assets\n"
     ]
    },
    {
     "name": "stdout",
     "output_type": "stream",
     "text": [
      "3/3 [==============================] - 1s 499ms/step - loss: 407.6068 - mae: 408.1061 - val_loss: 368.0534 - val_mae: 368.5534\n",
      "Epoch 100/100\n",
      "3/3 [==============================] - 0s 24ms/step - loss: 414.8824 - mae: 415.3823 - val_loss: 776.5352 - val_mae: 777.0352\n"
     ]
    }
   ],
   "source": [
    "model_22222 = tf.keras.models.Sequential([\n",
    "    tf.keras.layers.Dense(128, input_shape=(window_size, num_features), activation=\"relu\"),\n",
    "    tf.keras.layers.Flatten(),\n",
    "    tf.keras.layers.Dense(32, activation=\"relu\"),\n",
    "    tf.keras.layers.Dense(1)  # Output shape matches the number of features\n",
    "], name=\"model_22222\")\n",
    "\n",
    "# Get initial weights\n",
    "init_weights = model_22222.get_weights()\n",
    "\n",
    "# Reset states generated by Keras\n",
    "tf.keras.backend.clear_session()\n",
    "\n",
    "# Reset the weights\n",
    "model_22222.set_weights(init_weights)\n",
    "\n",
    "model_22222.summary()\n",
    "\n",
    "# Initialize the optimizer\n",
    "optimizer = tf.keras.optimizers.Adam()\n",
    "\n",
    "# Set the training parameters\n",
    "model_22222.compile(loss=tf.keras.losses.Huber(),\n",
    "                optimizer=optimizer,\n",
    "                metrics=[\"mae\"])\n",
    "\n",
    "# Train the model\n",
    "history_22222 = model_22222.fit(train_set,\n",
    "                      epochs=100,\n",
    "                      verbose=1,\n",
    "                      batch_size=batch_size,\n",
    "                      validation_data=valid_set,\n",
    "                      callbacks=[create_model_checkpoint(model_name=model_22222.name)])"
   ]
  },
  {
   "cell_type": "code",
   "execution_count": 110,
   "metadata": {
    "scrolled": false
   },
   "outputs": [
    {
     "name": "stdout",
     "output_type": "stream",
     "text": [
      "1/1 [==============================] - 0s 72ms/step - loss: 776.5349 - mae: 777.0349\n"
     ]
    },
    {
     "data": {
      "image/png": "[encoded data removed]",
      "text/plain": [
       "<Figure size 720x432 with 1 Axes>"
      ]
     },
     "metadata": {
      "needs_background": "light"
     },
     "output_type": "display_data"
    },
    {
     "data": {
      "image/png": "[encoded data removed]",
      "text/plain": [
       "<Figure size 720x432 with 1 Axes>"
      ]
     },
     "metadata": {
      "needs_background": "light"
     },
     "output_type": "display_data"
    },
    {
     "name": "stdout",
     "output_type": "stream",
     "text": [
      "WARNING:tensorflow:6 out of the last 14 calls to <function Model.make_predict_function.<locals>.predict_function at 0x000002B3E5FEC040> triggered tf.function retracing. Tracing is expensive and the excessive number of tracings could be due to (1) creating @tf.function repeatedly in a loop, (2) passing tensors with different shapes, (3) passing Python objects instead of tensors. For (1), please define your @tf.function outside of the loop. For (2), @tf.function has reduce_retracing=True option that can avoid unnecessary retracing. For (3), please refer to https://www.tensorflow.org/guide/function#controlling_retracing and https://www.tensorflow.org/api_docs/python/tf/function for  more details.\n"
     ]
    },
    {
     "name": "stderr",
     "output_type": "stream",
     "text": [
      "WARNING:tensorflow:6 out of the last 14 calls to <function Model.make_predict_function.<locals>.predict_function at 0x000002B3E5FEC040> triggered tf.function retracing. Tracing is expensive and the excessive number of tracings could be due to (1) creating @tf.function repeatedly in a loop, (2) passing tensors with different shapes, (3) passing Python objects instead of tensors. For (1), please define your @tf.function outside of the loop. For (2), @tf.function has reduce_retracing=True option that can avoid unnecessary retracing. For (3), please refer to https://www.tensorflow.org/guide/function#controlling_retracing and https://www.tensorflow.org/api_docs/python/tf/function for  more details.\n"
     ]
    },
    {
     "name": "stdout",
     "output_type": "stream",
     "text": [
      "1/1 [==============================] - 0s 193ms/step\n"
     ]
    },
    {
     "data": {
      "image/png": "[encoded data removed]",
      "text/plain": [
       "<Figure size 720x432 with 1 Axes>"
      ]
     },
     "metadata": {
      "needs_background": "light"
     },
     "output_type": "display_data"
    },
    {
     "name": "stdout",
     "output_type": "stream",
     "text": [
      "{'mae': 428.4348, 'mse': 375270.0, 'rmse': 612.59283, 'mape': 2.6594603, 'mase': 1.6781638}\n"
     ]
    }
   ],
   "source": [
    "model_22222.evaluate(valid_set)\n",
    "\n",
    "# Get mae and loss from history log\n",
    "mae=history_22222.history['mae']\n",
    "val_mae=history_22222.history['val_mae']\n",
    "loss=history_22222.history['loss']\n",
    "val_loss=history_22222.history['val_loss']\n",
    "\n",
    "# Get number of epochs\n",
    "epochs=range(len(loss)) \n",
    "\n",
    "# Plot mae and loss\n",
    "plot_series(\n",
    "    x=epochs, \n",
    "    y=(mae, val_mae), \n",
    "    title='MAE and val MAE', \n",
    "    xlabel='MAE',\n",
    "    ylabel='val MAE',\n",
    "    legend=['MAE', 'val MAE']\n",
    "    )\n",
    "\n",
    "plot_series(\n",
    "    x=epochs, \n",
    "    y=(loss, val_loss), \n",
    "    title='LOSS and val LOSS', \n",
    "    xlabel='LOSS',\n",
    "    ylabel='val LOSS',\n",
    "    legend=['LOSS', 'val LOSS']\n",
    "    )\n",
    "\n",
    "# Reduce the original series\n",
    "forecast_series = monthly_data[split_time-window_size:-1]\n",
    "\n",
    "# Use helper function to generate predictions\n",
    "forecast = model_forecast(model_22222, forecast_series, window_size, batch_size)\n",
    "\n",
    "# Drop single dimensional axes\n",
    "results_22222 = forecast.squeeze()\n",
    "\n",
    "# for i in range(x_valid.shape[1]):\n",
    "#     # Plot the results\n",
    "plot_series(time_valid, (x_valid.iloc[:,-1], results_22222))\n",
    "\n",
    "eval_model_22222 = evaluate_preds(y_true=x_valid.iloc[:,-1],\n",
    "                               y_pred=results_22222)\n",
    "print(eval_model_22222)"
   ]
  },
  {
   "cell_type": "code",
   "execution_count": 115,
   "metadata": {},
   "outputs": [],
   "source": [
    "def make_future_forecast(values, model, into_future, window_size, num_features) -> list:\n",
    "    future_forecast = []\n",
    "    last_window = values[-window_size:]\n",
    "    for _ in range(into_future):\n",
    "        future_pred = model.predict(tf.expand_dims(last_window, axis=0))\n",
    "        future_forecast.append(tf.squeeze(future_pred).numpy())\n",
    "        last_window = np.append(last_window, future_pred)[-window_size * num_features:]\n",
    "        last_window = last_window.reshape((window_size, num_features))  # Reshape the last_window to match input shape\n",
    "\n",
    "    return future_forecast"
   ]
  },
  {
   "cell_type": "code",
   "execution_count": 119,
   "metadata": {},
   "outputs": [
    {
     "name": "stdout",
     "output_type": "stream",
     "text": [
      "1/1 [==============================] - 0s 32ms/step\n",
      "1/1 [==============================] - 0s 27ms/step\n",
      "1/1 [==============================] - 0s 30ms/step\n",
      "1/1 [==============================] - 0s 28ms/step\n",
      "1/1 [==============================] - 0s 29ms/step\n",
      "1/1 [==============================] - 0s 31ms/step\n",
      "1/1 [==============================] - 0s 25ms/step\n",
      "1/1 [==============================] - 0s 29ms/step\n",
      "1/1 [==============================] - 0s 27ms/step\n",
      "1/1 [==============================] - 0s 36ms/step\n",
      "1/1 [==============================] - 0s 39ms/step\n",
      "1/1 [==============================] - 0s 31ms/step\n"
     ]
    },
    {
     "data": {
      "image/png": "[encoded data removed]",
      "text/plain": [
       "<Figure size 1080x504 with 1 Axes>"
      ]
     },
     "metadata": {
      "needs_background": "light"
     },
     "output_type": "display_data"
    }
   ],
   "source": [
    "into_future = 12\n",
    "future_forecast = make_future_forecast(values=monthly_data[:-12],\n",
    "                                       model=model_22222,\n",
    "                                       into_future=into_future,\n",
    "                                       window_size=window_size,\n",
    "                                       num_features=num_features)\n",
    "\n",
    "plt.figure(figsize=(15, 7))\n",
    "plot_time_series(time, monthly_data.iloc[:,-1], start=100, format=\"-\", label=\"Actual EUR/IDR\")\n",
    "plot_time_series(time[-12:], future_forecast, format=\"-\", label=\"Predicted EUR/IDR\")\n",
    "\n"
   ]
  },
  {
   "cell_type": "code",
   "execution_count": 121,
   "metadata": {},
   "outputs": [
    {
     "data": {
      "text/plain": [
       "{'mae': 814.7812,\n",
       " 'mse': 987223.3,\n",
       " 'rmse': 993.5911,\n",
       " 'mape': 5.041424,\n",
       " 'mase': 2.7107441}"
      ]
     },
     "execution_count": 121,
     "metadata": {},
     "output_type": "execute_result"
    }
   ],
   "source": [
    "eval_model = evaluate_predss(y_true=monthly_data.iloc[:,-1][-12:],\n",
    "                               y_pred=future_forecast)\n",
    "\n",
    "eval_model"
   ]
  }
 ],
 "metadata": {
  "kernelspec": {
   "display_name": "Python 3",
   "language": "python",
   "name": "python3"
  },
  "language_info": {
   "codemirror_mode": {
    "name": "ipython",
    "version": 3
   },
   "file_extension": ".py",
   "mimetype": "text/x-python",
   "name": "python",
   "nbconvert_exporter": "python",
   "pygments_lexer": "ipython3",
   "version": "3.8.3"
  }
 },
 "nbformat": 4,
 "nbformat_minor": 4
}
