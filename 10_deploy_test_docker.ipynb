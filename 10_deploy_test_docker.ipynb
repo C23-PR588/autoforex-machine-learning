{
 "cells": [
  {
   "cell_type": "markdown",
   "metadata": {},
   "source": [
    "model_version\n",
    "\n",
    "- 1 : EUR 7 DAYS\n",
    "- 2 : USD 7 DAYS\n",
    "- 3 : JPY 7 DAYS\n",
    "- 4 : GBP 7 DAYS\n",
    "- 5 : SGD 7 DAYS\n",
    "- 6 : AUD 7 DAYS\n",
    "- 7 : CNY 7 DAYS\n",
    "- 8 : CAD 7 DAYS\n",
    "- 9 : MYR 7 DAYS\n",
    "- 10: RUB 7 DAYS\n",
    "- 11: EUR 30 DAYS\n",
    "- 12: USD 30 DAYS\n",
    "- 13: JPY 30 DAYS\n",
    "- 14: GBP 30 DAYS\n",
    "- 15: SGD 30 DAYS\n",
    "- 16: AUD 30 DAYS\n",
    "- 17: CNY 30 DAYS\n",
    "- 18: CAD 30 DAYS\n",
    "- 19: MYR 30 DAYS\n",
    "- 20: RUB 30 DAYS"
   ]
  },
  {
   "cell_type": "code",
   "execution_count": 6,
   "metadata": {},
   "outputs": [
    {
     "name": "stdout",
     "output_type": "stream",
     "text": [
      "{'model_version_status': [{'version': '20', 'state': 'AVAILABLE', 'status': {'error_code': 'OK', 'error_message': ''}}, {'version': '19', 'state': 'AVAILABLE', 'status': {'error_code': 'OK', 'error_message': ''}}, {'version': '18', 'state': 'AVAILABLE', 'status': {'error_code': 'OK', 'error_message': ''}}, {'version': '17', 'state': 'AVAILABLE', 'status': {'error_code': 'OK', 'error_message': ''}}, {'version': '16', 'state': 'AVAILABLE', 'status': {'error_code': 'OK', 'error_message': ''}}, {'version': '15', 'state': 'AVAILABLE', 'status': {'error_code': 'OK', 'error_message': ''}}, {'version': '14', 'state': 'AVAILABLE', 'status': {'error_code': 'OK', 'error_message': ''}}, {'version': '13', 'state': 'AVAILABLE', 'status': {'error_code': 'OK', 'error_message': ''}}, {'version': '12', 'state': 'AVAILABLE', 'status': {'error_code': 'OK', 'error_message': ''}}, {'version': '11', 'state': 'AVAILABLE', 'status': {'error_code': 'OK', 'error_message': ''}}, {'version': '10', 'state': 'AVAILABLE', 'status': {'error_code': 'OK', 'error_message': ''}}, {'version': '9', 'state': 'AVAILABLE', 'status': {'error_code': 'OK', 'error_message': ''}}, {'version': '8', 'state': 'AVAILABLE', 'status': {'error_code': 'OK', 'error_message': ''}}, {'version': '7', 'state': 'AVAILABLE', 'status': {'error_code': 'OK', 'error_message': ''}}, {'version': '6', 'state': 'AVAILABLE', 'status': {'error_code': 'OK', 'error_message': ''}}, {'version': '5', 'state': 'AVAILABLE', 'status': {'error_code': 'OK', 'error_message': ''}}, {'version': '4', 'state': 'AVAILABLE', 'status': {'error_code': 'OK', 'error_message': ''}}, {'version': '3', 'state': 'AVAILABLE', 'status': {'error_code': 'OK', 'error_message': ''}}, {'version': '2', 'state': 'AVAILABLE', 'status': {'error_code': 'OK', 'error_message': ''}}, {'version': '1', 'state': 'AVAILABLE', 'status': {'error_code': 'OK', 'error_message': ''}}]}\n"
     ]
    }
   ],
   "source": [
    "import requests\n",
    "version = 15\n",
    "# GET Request\n",
    "get_url = \"http://localhost:9001/v1/models/forecast_currency_exchange_rate\"\n",
    "response_get = requests.get(get_url)\n",
    "print(response_get.json())\n",
    "\n",
    "# POST Request\n",
    "post_url = f\"http://localhost:9001/v1/models/forecast_currency_exchange_rate/versions/{version}:predict\"\n",
    "headers = {\"Content-Type\": \"application/json\"}\n"
   ]
  },
  {
   "cell_type": "markdown",
   "metadata": {},
   "source": [
    "### Forecast 7 Days"
   ]
  },
  {
   "cell_type": "code",
   "execution_count": 4,
   "metadata": {},
   "outputs": [
    {
     "name": "stderr",
     "output_type": "stream",
     "text": [
      "<ipython-input-4-0e60524005c4>:7: FutureWarning: The squeeze argument has been deprecated and will be removed in a future version. Append .squeeze(\"columns\") to the call to squeeze.\n",
      "\n",
      "\n",
      "  series = pd.read_csv('./currency_data_10_years.csv', header=0, parse_dates=[0], index_col=0, squeeze=True, date_parser=parser)\n"
     ]
    },
    {
     "name": "stdout",
     "output_type": "stream",
     "text": [
      "JPY/IDR 7 days forecast\n",
      "108.200905\n",
      "108.146896\n",
      "107.854179\n",
      "107.899376\n",
      "107.741402\n",
      "107.649597\n",
      "107.721535\n"
     ]
    }
   ],
   "source": [
    "from datetime import datetime\n",
    "import pandas as pd\n",
    "\n",
    "def parser(x):\n",
    "    return datetime.strptime(x, '%Y-%m-%d')\n",
    "\n",
    "series = pd.read_csv('./currency_data_10_years.csv', header=0, parse_dates=[0], index_col=0, squeeze=True, date_parser=parser)\n",
    "series.head()\n",
    "\n",
    "columns = series.columns.tolist()\n",
    "column_name = columns[version-1]\n",
    "into_future = 7\n",
    "\n",
    "future_forecast=[]\n",
    "input_series = series.iloc[:,version-1].tolist()[-30:] # window_size = 30\n",
    "print(f\"{column_name}/IDR {into_future} days forecast\")\n",
    "for i in range(into_future):\n",
    "    data = {\n",
    "        \"instances\": [\n",
    "            input_series\n",
    "        ]\n",
    "    }\n",
    "    response_post = requests.post(post_url, headers=headers, json=data)\n",
    "    prediction = response_post.json()[\"predictions\"][0][0]\n",
    "    future_forecast.append(prediction)\n",
    "    print(prediction)\n",
    "    \n",
    "    input_series.append(prediction)\n",
    "    input_series = input_series[1:]"
   ]
  },
  {
   "cell_type": "markdown",
   "metadata": {},
   "source": [
    "### Forecast 30 days"
   ]
  },
  {
   "cell_type": "code",
   "execution_count": 7,
   "metadata": {},
   "outputs": [
    {
     "name": "stderr",
     "output_type": "stream",
     "text": [
      "<ipython-input-7-8dbb9dd6afe2>:7: FutureWarning: The squeeze argument has been deprecated and will be removed in a future version. Append .squeeze(\"columns\") to the call to squeeze.\n",
      "\n",
      "\n",
      "  series = pd.read_csv('./currency_data_10_years.csv', header=0, parse_dates=[0], index_col=0, squeeze=True, date_parser=parser)\n"
     ]
    },
    {
     "name": "stdout",
     "output_type": "stream",
     "text": [
      "SGD/IDR 30 days forecast with 10x3 days step\n",
      "11103.8477\n",
      "11101.6709\n",
      "11093.3877\n",
      "11108.9941\n",
      "11108.2803\n",
      "11108.9316\n",
      "11106.1768\n",
      "11107.8789\n",
      "11130.4629\n",
      "11131.0547\n"
     ]
    }
   ],
   "source": [
    "from datetime import datetime\n",
    "import pandas as pd\n",
    "\n",
    "def parser(x):\n",
    "    return datetime.strptime(x, '%Y-%m-%d')\n",
    "\n",
    "series = pd.read_csv('./currency_data_10_years.csv', header=0, parse_dates=[0], index_col=0, squeeze=True, date_parser=parser)\n",
    "series.head()\n",
    "\n",
    "series = series.resample('3D').mean()\n",
    "\n",
    "columns = series.columns.tolist()\n",
    "column_name = columns[version-10-1]\n",
    "\n",
    "into_future = 10\n",
    "\n",
    "future_forecast=[]\n",
    "input_series = series.iloc[:,version-10-1].tolist()[-20:] # window_size = 30\n",
    "print(f\"{column_name}/IDR 30 days forecast with 10x3 days step\")\n",
    "for i in range(into_future):\n",
    "    data = {\n",
    "        \"instances\": [\n",
    "            input_series\n",
    "        ]\n",
    "    }\n",
    "    response_post = requests.post(post_url, headers=headers, json=data)\n",
    "    prediction = response_post.json()[\"predictions\"][0][0]\n",
    "    future_forecast.append(prediction)\n",
    "    print(prediction)\n",
    "    \n",
    "    input_series.append(prediction)\n",
    "    input_series = input_series[1:]"
   ]
  }
 ],
 "metadata": {
  "kernelspec": {
   "display_name": "Python 3",
   "language": "python",
   "name": "python3"
  },
  "language_info": {
   "codemirror_mode": {
    "name": "ipython",
    "version": 3
   },
   "file_extension": ".py",
   "mimetype": "text/x-python",
   "name": "python",
   "nbconvert_exporter": "python",
   "pygments_lexer": "ipython3",
   "version": "3.8.3"
  }
 },
 "nbformat": 4,
 "nbformat_minor": 4
}
