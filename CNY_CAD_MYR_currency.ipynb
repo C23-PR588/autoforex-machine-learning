{
 "cells": [
  {
   "cell_type": "markdown",
   "id": "1af9406e",
   "metadata": {},
   "source": [
    "# IDR to CNY, CAD, and MYR currency model"
   ]
  },
  {
   "cell_type": "code",
   "execution_count": 1,
   "id": "175f3948",
   "metadata": {},
   "outputs": [],
   "source": [
    "%run helper_functions_and_libraries.py\n",
    "logging.set_verbosity(logging.ERROR)"
   ]
  },
  {
   "cell_type": "code",
   "execution_count": 2,
   "id": "7fb1a002",
   "metadata": {},
   "outputs": [],
   "source": [
    "df = pd.read_csv('currency_data_10_years.csv', parse_dates=['date'])"
   ]
  },
  {
   "cell_type": "code",
   "execution_count": 3,
   "id": "134de9f0",
   "metadata": {},
   "outputs": [
    {
     "data": {
      "text/html": [
       "<div>\n",
       "<style scoped>\n",
       "    .dataframe tbody tr th:only-of-type {\n",
       "        vertical-align: middle;\n",
       "    }\n",
       "\n",
       "    .dataframe tbody tr th {\n",
       "        vertical-align: top;\n",
       "    }\n",
       "\n",
       "    .dataframe thead th {\n",
       "        text-align: right;\n",
       "    }\n",
       "</style>\n",
       "<table border=\"1\" class=\"dataframe\">\n",
       "  <thead>\n",
       "    <tr style=\"text-align: right;\">\n",
       "      <th></th>\n",
       "      <th>date</th>\n",
       "      <th>EUR</th>\n",
       "      <th>USD</th>\n",
       "      <th>JPY</th>\n",
       "      <th>GBP</th>\n",
       "      <th>SGD</th>\n",
       "      <th>AUD</th>\n",
       "      <th>CNY</th>\n",
       "      <th>CAD</th>\n",
       "      <th>MYR</th>\n",
       "      <th>RUB</th>\n",
       "    </tr>\n",
       "  </thead>\n",
       "  <tbody>\n",
       "    <tr>\n",
       "      <th>0</th>\n",
       "      <td>2013-05-01</td>\n",
       "      <td>12816.661099</td>\n",
       "      <td>9721.95011</td>\n",
       "      <td>99.794970</td>\n",
       "      <td>15125.789759</td>\n",
       "      <td>7884.025975</td>\n",
       "      <td>9991.932116</td>\n",
       "      <td>1573.729510</td>\n",
       "      <td>9637.238781</td>\n",
       "      <td>3196.705985</td>\n",
       "      <td>311.579294</td>\n",
       "    </tr>\n",
       "    <tr>\n",
       "      <th>1</th>\n",
       "      <td>2013-05-02</td>\n",
       "      <td>12696.355896</td>\n",
       "      <td>9727.31307</td>\n",
       "      <td>99.371194</td>\n",
       "      <td>15096.787469</td>\n",
       "      <td>7878.089194</td>\n",
       "      <td>9976.629029</td>\n",
       "      <td>1576.636811</td>\n",
       "      <td>9620.049518</td>\n",
       "      <td>3193.114711</td>\n",
       "      <td>311.787545</td>\n",
       "    </tr>\n",
       "    <tr>\n",
       "      <th>2</th>\n",
       "      <td>2013-05-03</td>\n",
       "      <td>12735.428571</td>\n",
       "      <td>9726.93828</td>\n",
       "      <td>98.682506</td>\n",
       "      <td>15125.784565</td>\n",
       "      <td>7879.444847</td>\n",
       "      <td>10024.671009</td>\n",
       "      <td>1576.977359</td>\n",
       "      <td>9628.439345</td>\n",
       "      <td>3201.788787</td>\n",
       "      <td>312.272389</td>\n",
       "    </tr>\n",
       "    <tr>\n",
       "      <th>3</th>\n",
       "      <td>2013-05-04</td>\n",
       "      <td>12758.622548</td>\n",
       "      <td>9729.21521</td>\n",
       "      <td>98.372041</td>\n",
       "      <td>15148.170100</td>\n",
       "      <td>7886.016560</td>\n",
       "      <td>10037.051582</td>\n",
       "      <td>1577.842772</td>\n",
       "      <td>9643.293465</td>\n",
       "      <td>3204.827462</td>\n",
       "      <td>313.177271</td>\n",
       "    </tr>\n",
       "    <tr>\n",
       "      <th>4</th>\n",
       "      <td>2013-05-05</td>\n",
       "      <td>12719.240307</td>\n",
       "      <td>9697.65758</td>\n",
       "      <td>97.852512</td>\n",
       "      <td>15097.625177</td>\n",
       "      <td>7859.545641</td>\n",
       "      <td>9999.337595</td>\n",
       "      <td>1572.747845</td>\n",
       "      <td>9623.460698</td>\n",
       "      <td>3195.832412</td>\n",
       "      <td>312.291932</td>\n",
       "    </tr>\n",
       "  </tbody>\n",
       "</table>\n",
       "</div>"
      ],
      "text/plain": [
       "        date           EUR         USD        JPY           GBP          SGD  \\\n",
       "0 2013-05-01  12816.661099  9721.95011  99.794970  15125.789759  7884.025975   \n",
       "1 2013-05-02  12696.355896  9727.31307  99.371194  15096.787469  7878.089194   \n",
       "2 2013-05-03  12735.428571  9726.93828  98.682506  15125.784565  7879.444847   \n",
       "3 2013-05-04  12758.622548  9729.21521  98.372041  15148.170100  7886.016560   \n",
       "4 2013-05-05  12719.240307  9697.65758  97.852512  15097.625177  7859.545641   \n",
       "\n",
       "            AUD          CNY          CAD          MYR         RUB  \n",
       "0   9991.932116  1573.729510  9637.238781  3196.705985  311.579294  \n",
       "1   9976.629029  1576.636811  9620.049518  3193.114711  311.787545  \n",
       "2  10024.671009  1576.977359  9628.439345  3201.788787  312.272389  \n",
       "3  10037.051582  1577.842772  9643.293465  3204.827462  313.177271  \n",
       "4   9999.337595  1572.747845  9623.460698  3195.832412  312.291932  "
      ]
     },
     "metadata": {},
     "output_type": "display_data"
    }
   ],
   "source": [
    "display(df.head())"
   ]
  },
  {
   "cell_type": "code",
   "execution_count": 4,
   "id": "56e79557",
   "metadata": {},
   "outputs": [
    {
     "data": {
      "text/plain": [
       "date    0\n",
       "EUR     0\n",
       "USD     0\n",
       "JPY     0\n",
       "GBP     0\n",
       "SGD     0\n",
       "AUD     0\n",
       "CNY     0\n",
       "CAD     0\n",
       "MYR     0\n",
       "RUB     0\n",
       "dtype: int64"
      ]
     },
     "execution_count": 4,
     "metadata": {},
     "output_type": "execute_result"
    }
   ],
   "source": [
    "df.isnull().sum()"
   ]
  },
  {
   "cell_type": "code",
   "execution_count": 5,
   "id": "8d2619ba",
   "metadata": {},
   "outputs": [
    {
     "data": {
      "text/plain": [
       "0"
      ]
     },
     "execution_count": 5,
     "metadata": {},
     "output_type": "execute_result"
    }
   ],
   "source": [
    "df.duplicated().sum()"
   ]
  },
  {
   "cell_type": "code",
   "execution_count": 6,
   "id": "a8b03b54",
   "metadata": {},
   "outputs": [
    {
     "data": {
      "text/html": [
       "<div>\n",
       "<style scoped>\n",
       "    .dataframe tbody tr th:only-of-type {\n",
       "        vertical-align: middle;\n",
       "    }\n",
       "\n",
       "    .dataframe tbody tr th {\n",
       "        vertical-align: top;\n",
       "    }\n",
       "\n",
       "    .dataframe thead th {\n",
       "        text-align: right;\n",
       "    }\n",
       "</style>\n",
       "<table border=\"1\" class=\"dataframe\">\n",
       "  <thead>\n",
       "    <tr style=\"text-align: right;\">\n",
       "      <th></th>\n",
       "      <th>EUR</th>\n",
       "      <th>USD</th>\n",
       "      <th>JPY</th>\n",
       "      <th>GBP</th>\n",
       "      <th>SGD</th>\n",
       "      <th>AUD</th>\n",
       "      <th>CNY</th>\n",
       "      <th>CAD</th>\n",
       "      <th>MYR</th>\n",
       "      <th>RUB</th>\n",
       "    </tr>\n",
       "  </thead>\n",
       "  <tbody>\n",
       "    <tr>\n",
       "      <th>count</th>\n",
       "      <td>3653.000000</td>\n",
       "      <td>3653.000000</td>\n",
       "      <td>3653.000000</td>\n",
       "      <td>3653.000000</td>\n",
       "      <td>3653.000000</td>\n",
       "      <td>3653.000000</td>\n",
       "      <td>3653.000000</td>\n",
       "      <td>3653.000000</td>\n",
       "      <td>3653.000000</td>\n",
       "      <td>3653.000000</td>\n",
       "    </tr>\n",
       "    <tr>\n",
       "      <th>mean</th>\n",
       "      <td>15734.162882</td>\n",
       "      <td>13626.586201</td>\n",
       "      <td>121.401374</td>\n",
       "      <td>18653.481260</td>\n",
       "      <td>10082.717169</td>\n",
       "      <td>10260.649080</td>\n",
       "      <td>2069.300203</td>\n",
       "      <td>10754.881120</td>\n",
       "      <td>3404.138908</td>\n",
       "      <td>231.530939</td>\n",
       "    </tr>\n",
       "    <tr>\n",
       "      <th>std</th>\n",
       "      <td>1028.194122</td>\n",
       "      <td>1215.902129</td>\n",
       "      <td>10.240113</td>\n",
       "      <td>1282.776928</td>\n",
       "      <td>714.681696</td>\n",
       "      <td>449.989173</td>\n",
       "      <td>140.321208</td>\n",
       "      <td>530.164824</td>\n",
       "      <td>173.826533</td>\n",
       "      <td>46.941534</td>\n",
       "    </tr>\n",
       "    <tr>\n",
       "      <th>min</th>\n",
       "      <td>12502.789487</td>\n",
       "      <td>9697.657580</td>\n",
       "      <td>94.607603</td>\n",
       "      <td>14719.776369</td>\n",
       "      <td>7717.296664</td>\n",
       "      <td>8937.081757</td>\n",
       "      <td>1572.747845</td>\n",
       "      <td>9357.856739</td>\n",
       "      <td>2975.634017</td>\n",
       "      <td>102.737302</td>\n",
       "    </tr>\n",
       "    <tr>\n",
       "      <th>25%</th>\n",
       "      <td>15022.483609</td>\n",
       "      <td>13190.926920</td>\n",
       "      <td>113.522422</td>\n",
       "      <td>17928.531116</td>\n",
       "      <td>9568.972790</td>\n",
       "      <td>9936.471898</td>\n",
       "      <td>1980.528819</td>\n",
       "      <td>10411.948518</td>\n",
       "      <td>3302.096195</td>\n",
       "      <td>201.594311</td>\n",
       "    </tr>\n",
       "    <tr>\n",
       "      <th>50%</th>\n",
       "      <td>15801.743633</td>\n",
       "      <td>13912.643820</td>\n",
       "      <td>120.609803</td>\n",
       "      <td>18781.087788</td>\n",
       "      <td>10247.419202</td>\n",
       "      <td>10276.735571</td>\n",
       "      <td>2091.106976</td>\n",
       "      <td>10746.358863</td>\n",
       "      <td>3423.539036</td>\n",
       "      <td>219.833077</td>\n",
       "    </tr>\n",
       "    <tr>\n",
       "      <th>75%</th>\n",
       "      <td>16463.962255</td>\n",
       "      <td>14384.106330</td>\n",
       "      <td>129.598188</td>\n",
       "      <td>19469.502233</td>\n",
       "      <td>10588.733799</td>\n",
       "      <td>10609.276367</td>\n",
       "      <td>2177.005363</td>\n",
       "      <td>11165.293022</td>\n",
       "      <td>3529.477813</td>\n",
       "      <td>237.545901</td>\n",
       "    </tr>\n",
       "    <tr>\n",
       "      <th>max</th>\n",
       "      <td>18035.467645</td>\n",
       "      <td>16644.718800</td>\n",
       "      <td>153.504275</td>\n",
       "      <td>22488.120204</td>\n",
       "      <td>11718.909446</td>\n",
       "      <td>11396.359940</td>\n",
       "      <td>2346.805612</td>\n",
       "      <td>12314.949757</td>\n",
       "      <td>3819.207831</td>\n",
       "      <td>384.795234</td>\n",
       "    </tr>\n",
       "  </tbody>\n",
       "</table>\n",
       "</div>"
      ],
      "text/plain": [
       "                EUR           USD          JPY           GBP           SGD  \\\n",
       "count   3653.000000   3653.000000  3653.000000   3653.000000   3653.000000   \n",
       "mean   15734.162882  13626.586201   121.401374  18653.481260  10082.717169   \n",
       "std     1028.194122   1215.902129    10.240113   1282.776928    714.681696   \n",
       "min    12502.789487   9697.657580    94.607603  14719.776369   7717.296664   \n",
       "25%    15022.483609  13190.926920   113.522422  17928.531116   9568.972790   \n",
       "50%    15801.743633  13912.643820   120.609803  18781.087788  10247.419202   \n",
       "75%    16463.962255  14384.106330   129.598188  19469.502233  10588.733799   \n",
       "max    18035.467645  16644.718800   153.504275  22488.120204  11718.909446   \n",
       "\n",
       "                AUD          CNY           CAD          MYR          RUB  \n",
       "count   3653.000000  3653.000000   3653.000000  3653.000000  3653.000000  \n",
       "mean   10260.649080  2069.300203  10754.881120  3404.138908   231.530939  \n",
       "std      449.989173   140.321208    530.164824   173.826533    46.941534  \n",
       "min     8937.081757  1572.747845   9357.856739  2975.634017   102.737302  \n",
       "25%     9936.471898  1980.528819  10411.948518  3302.096195   201.594311  \n",
       "50%    10276.735571  2091.106976  10746.358863  3423.539036   219.833077  \n",
       "75%    10609.276367  2177.005363  11165.293022  3529.477813   237.545901  \n",
       "max    11396.359940  2346.805612  12314.949757  3819.207831   384.795234  "
      ]
     },
     "execution_count": 6,
     "metadata": {},
     "output_type": "execute_result"
    }
   ],
   "source": [
    "df.describe()"
   ]
  },
  {
   "cell_type": "code",
   "execution_count": 7,
   "id": "43a04d06",
   "metadata": {},
   "outputs": [],
   "source": [
    "SPLIT_TIME = 2922\n",
    "WINDOW_SIZE = 30\n",
    "BATCH_SIZE = 32\n",
    "SHUFFLE_BUFFER_SIZE = 1000"
   ]
  },
  {
   "cell_type": "markdown",
   "id": "05a2e24b",
   "metadata": {},
   "source": [
    "## CNY"
   ]
  },
  {
   "cell_type": "code",
   "execution_count": null,
   "id": "40936ba0",
   "metadata": {},
   "outputs": [],
   "source": [
    "cny_df = df[['date','CNY']]"
   ]
  },
  {
   "cell_type": "code",
   "execution_count": null,
   "id": "f934008b",
   "metadata": {},
   "outputs": [],
   "source": [
    "display(cny_df.head())"
   ]
  },
  {
   "cell_type": "code",
   "execution_count": null,
   "id": "06120951",
   "metadata": {},
   "outputs": [],
   "source": [
    "times, series = parse_data_from_df(cny_df, 'CNY')"
   ]
  },
  {
   "cell_type": "code",
   "execution_count": null,
   "id": "d1557dd1",
   "metadata": {},
   "outputs": [],
   "source": [
    "plt.figure(figsize=(8, 4))\n",
    "plot_series(times, series, title=\"CNY/IDR Currency\", xlabel=\"Days\", ylabel=\"CNY/IDR\")"
   ]
  },
  {
   "cell_type": "code",
   "execution_count": null,
   "id": "8da8f4f8",
   "metadata": {},
   "outputs": [],
   "source": [
    "# Split the dataset\n",
    "time_train, series_train, time_valid, series_valid = train_val_split(times, series, SPLIT_TIME, None)"
   ]
  },
  {
   "cell_type": "code",
   "execution_count": null,
   "id": "035426cc",
   "metadata": {},
   "outputs": [],
   "source": [
    "train_set = windowed_dataset(series_train, \n",
    "                             window_size=WINDOW_SIZE, \n",
    "                             batch_size=BATCH_SIZE, \n",
    "                             shuffle_buffer=SHUFFLE_BUFFER_SIZE)"
   ]
  },
  {
   "cell_type": "code",
   "execution_count": null,
   "id": "362101f3",
   "metadata": {},
   "outputs": [],
   "source": [
    "def create_model():\n",
    "    \n",
    "    # Build the model\n",
    "    model = tf.keras.models.Sequential([ \n",
    "        tf.keras.layers.Lambda(lambda x: tf.expand_dims(x, axis=-1), input_shape=[None]),\n",
    "        tf.keras.layers.Conv1D(filters=64, kernel_size=3, \n",
    "                               strides=1, \n",
    "                               padding=\"causal\", \n",
    "                               activation=\"relu\", \n",
    "                               input_shape=[WINDOW_SIZE, 1]),\n",
    "        tf.keras.layers.LSTM(64, return_sequences=True),\n",
    "        tf.keras.layers.LSTM(64), \n",
    "        \n",
    "        tf.keras.layers.Dense(30, activation=\"relu\"),\n",
    "        tf.keras.layers.Dense(10, activation=\"relu\"),\n",
    "        tf.keras.layers.Dense(1),\n",
    "        \n",
    "        tf.keras.layers.Lambda(lambda x: x * 400)\n",
    "    ])\n",
    "\n",
    "    return model"
   ]
  },
  {
   "cell_type": "code",
   "execution_count": null,
   "id": "df3d1b7f",
   "metadata": {},
   "outputs": [],
   "source": [
    "# Test your uncompiled model\n",
    "model = create_model()\n",
    "\n",
    "# Print the model summary\n",
    "model.summary()\n",
    "\n",
    "# Check model compatibility\n",
    "try:\n",
    "    model.predict(train_set)\n",
    "except:\n",
    "    print(\"Your current architecture is incompatible with the windowed dataset, try adjusting it.\")\n",
    "else:\n",
    "    print(\"Your current architecture is compatible with the windowed dataset! :)\")"
   ]
  },
  {
   "cell_type": "code",
   "execution_count": null,
   "id": "13c4850b",
   "metadata": {},
   "outputs": [],
   "source": [
    "# Get initial weights\n",
    "init_weights = model.get_weights()\n",
    "\n",
    "# Reset states generated by Keras\n",
    "tf.keras.backend.clear_session()\n",
    "\n",
    "# Reset the weights\n",
    "model.set_weights(init_weights)"
   ]
  },
  {
   "cell_type": "code",
   "execution_count": null,
   "id": "72d3731d",
   "metadata": {},
   "outputs": [],
   "source": [
    "def adjust_learning_rate(dataset, model_to_train):\n",
    "    \n",
    "    model = model_to_train\n",
    "    \n",
    "    # Set the learning rate scheduler\n",
    "    lr_schedule = tf.keras.callbacks.LearningRateScheduler(lambda epoch: 1e-8 * 10**(epoch / 20))\n",
    "    \n",
    "    # Select optimizer\n",
    "    optimizer = tf.keras.optimizers.Adam(learning_rate = 1e-8)\n",
    "    # optimizer = tf.keras.optimizers.SGD(momentum=0.9)\n",
    "    \n",
    "    # Compile the model passing in the appropriate loss\n",
    "    model.compile(loss=tf.keras.losses.Huber(),\n",
    "                  optimizer=optimizer, \n",
    "                  metrics=[\"mae\"])\n",
    "    \n",
    "    # Train the model\n",
    "    history = model.fit(dataset, epochs=100, callbacks=[lr_schedule])\n",
    "    \n",
    "    return history"
   ]
  },
  {
   "cell_type": "code",
   "execution_count": null,
   "id": "cbabc3f5",
   "metadata": {},
   "outputs": [],
   "source": [
    "# Run the training with dynamic LR\n",
    "lr_history = adjust_learning_rate(train_set, model)"
   ]
  },
  {
   "cell_type": "code",
   "execution_count": null,
   "id": "dd952744",
   "metadata": {},
   "outputs": [],
   "source": [
    "# Reset states generated by Keras\n",
    "tf.keras.backend.clear_session()\n",
    "\n",
    "# Reset the weights\n",
    "model.set_weights(init_weights)"
   ]
  },
  {
   "cell_type": "code",
   "execution_count": null,
   "id": "61443dc7",
   "metadata": {},
   "outputs": [],
   "source": [
    "def compile_model(dataset, model_to_train):\n",
    "    \n",
    "    model = model_to_train\n",
    "\n",
    "    optimizer = tf.keras.optimizers.Adam(learning_rate = 1e-8)\n",
    "\n",
    "    model.compile(loss=tf.keras.losses.Huber(),\n",
    "                  optimizer=optimizer,\n",
    "                  metrics=[\"mae\"])\n",
    "\n",
    "    history = model.fit(dataset, epochs=100)   \n",
    "\n",
    "    return history"
   ]
  },
  {
   "cell_type": "code",
   "execution_count": null,
   "id": "670a5534",
   "metadata": {},
   "outputs": [],
   "source": [
    "history = compile_model(train_set, model)"
   ]
  },
  {
   "cell_type": "code",
   "execution_count": null,
   "id": "f4305a04",
   "metadata": {},
   "outputs": [],
   "source": [
    "visualize_mae_loss(history)"
   ]
  },
  {
   "cell_type": "code",
   "execution_count": null,
   "id": "a24c4ee7",
   "metadata": {},
   "outputs": [],
   "source": [
    "rnn_forecast_valid = evaluate_forecast(model, times, series, time_valid, series_valid,\n",
    "                      SPLIT_TIME, -1, WINDOW_SIZE, BATCH_SIZE)"
   ]
  },
  {
   "cell_type": "code",
   "execution_count": null,
   "id": "b75e8f46",
   "metadata": {},
   "outputs": [],
   "source": [
    "compute_metrics(series_valid, rnn_forecast_valid)"
   ]
  },
  {
   "cell_type": "code",
   "execution_count": null,
   "id": "ec17cd71",
   "metadata": {},
   "outputs": [],
   "source": [
    "print(f'2 last Actual Price = {series_valid[-2:]}, Predicted Price = {rnn_forecast_valid[-2:]}')"
   ]
  },
  {
   "cell_type": "code",
   "execution_count": null,
   "id": "e033760a",
   "metadata": {},
   "outputs": [],
   "source": [
    "into_future = 100\n",
    "\n",
    "future_forecast = make_future_forecast(values=series,\n",
    "                                       model=model,\n",
    "                                       into_future=into_future,\n",
    "                                       window_size=WINDOW_SIZE)"
   ]
  },
  {
   "cell_type": "code",
   "execution_count": null,
   "id": "6bd8f56d",
   "metadata": {},
   "outputs": [],
   "source": [
    "start_future = times[-1] + 1\n",
    "future_time = np.arange(start_future, start_future + into_future)\n",
    "\n",
    "# Insert last timestep/final price into next time steps and future forecasts so the plot connects\n",
    "future_time = np.insert(future_time, 0, times[-1])\n",
    "future_forecast = np.insert(future_forecast, 0, series[-1])"
   ]
  },
  {
   "cell_type": "code",
   "execution_count": null,
   "id": "486b5070",
   "metadata": {},
   "outputs": [],
   "source": [
    "plt.figure(figsize=(15,7))\n",
    "plot_future_forecast(times, series, start=3600, format=\"-\", label=\"Actual CNY/IDR\", xlabel=\"Days\", ylabel=\"CNY/IDR\")\n",
    "plot_future_forecast(future_time, future_forecast, format=\"-\", label=\"Predicted CNY/IDR\", xlabel=\"Days\", ylabel=\"CNY/IDR\")"
   ]
  },
  {
   "cell_type": "code",
   "execution_count": null,
   "id": "f7fe6ef9",
   "metadata": {},
   "outputs": [],
   "source": []
  }
 ],
 "metadata": {
  "kernelspec": {
   "display_name": "Python 3 (ipykernel)",
   "language": "python",
   "name": "python3"
  },
  "language_info": {
   "codemirror_mode": {
    "name": "ipython",
    "version": 3
   },
   "file_extension": ".py",
   "mimetype": "text/x-python",
   "name": "python",
   "nbconvert_exporter": "python",
   "pygments_lexer": "ipython3",
   "version": "3.10.9"
  }
 },
 "nbformat": 4,
 "nbformat_minor": 5
}
