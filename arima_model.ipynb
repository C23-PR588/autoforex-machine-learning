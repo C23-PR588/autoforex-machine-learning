{
 "cells": [
  {
   "cell_type": "code",
   "execution_count": 1,
   "metadata": {},
   "outputs": [],
   "source": [
    "%run function_and_library.ipynb"
   ]
  },
  {
   "cell_type": "code",
   "execution_count": 2,
   "metadata": {},
   "outputs": [],
   "source": [
    "import pandas as pd\n",
    "import matplotlib.pyplot as plt"
   ]
  },
  {
   "cell_type": "code",
   "execution_count": 3,
   "metadata": {
    "scrolled": true
   },
   "outputs": [
    {
     "name": "stderr",
     "output_type": "stream",
     "text": [
      "<ipython-input-3-e362a14860ee>:7: FutureWarning: The squeeze argument has been deprecated and will be removed in a future version. Append .squeeze(\"columns\") to the call to squeeze.\n",
      "\n",
      "\n",
      "  series = pd.read_csv('./currency_data_10_years.csv', header=0, parse_dates=[0], index_col=0, squeeze=True, date_parser=parser)\n"
     ]
    },
    {
     "data": {
      "text/html": [
       "<div>\n",
       "<style scoped>\n",
       "    .dataframe tbody tr th:only-of-type {\n",
       "        vertical-align: middle;\n",
       "    }\n",
       "\n",
       "    .dataframe tbody tr th {\n",
       "        vertical-align: top;\n",
       "    }\n",
       "\n",
       "    .dataframe thead th {\n",
       "        text-align: right;\n",
       "    }\n",
       "</style>\n",
       "<table border=\"1\" class=\"dataframe\">\n",
       "  <thead>\n",
       "    <tr style=\"text-align: right;\">\n",
       "      <th></th>\n",
       "      <th>EUR</th>\n",
       "      <th>USD</th>\n",
       "      <th>JPY</th>\n",
       "      <th>GBP</th>\n",
       "      <th>SGD</th>\n",
       "      <th>AUD</th>\n",
       "      <th>CNY</th>\n",
       "      <th>CAD</th>\n",
       "      <th>MYR</th>\n",
       "      <th>RUB</th>\n",
       "    </tr>\n",
       "    <tr>\n",
       "      <th>date</th>\n",
       "      <th></th>\n",
       "      <th></th>\n",
       "      <th></th>\n",
       "      <th></th>\n",
       "      <th></th>\n",
       "      <th></th>\n",
       "      <th></th>\n",
       "      <th></th>\n",
       "      <th></th>\n",
       "      <th></th>\n",
       "    </tr>\n",
       "  </thead>\n",
       "  <tbody>\n",
       "    <tr>\n",
       "      <th>2013-05-01</th>\n",
       "      <td>12816.661099</td>\n",
       "      <td>9721.95011</td>\n",
       "      <td>99.794970</td>\n",
       "      <td>15125.789759</td>\n",
       "      <td>7884.025975</td>\n",
       "      <td>9991.932116</td>\n",
       "      <td>1573.729510</td>\n",
       "      <td>9637.238781</td>\n",
       "      <td>3196.705985</td>\n",
       "      <td>311.579294</td>\n",
       "    </tr>\n",
       "    <tr>\n",
       "      <th>2013-05-02</th>\n",
       "      <td>12696.355896</td>\n",
       "      <td>9727.31307</td>\n",
       "      <td>99.371194</td>\n",
       "      <td>15096.787469</td>\n",
       "      <td>7878.089194</td>\n",
       "      <td>9976.629029</td>\n",
       "      <td>1576.636811</td>\n",
       "      <td>9620.049518</td>\n",
       "      <td>3193.114711</td>\n",
       "      <td>311.787545</td>\n",
       "    </tr>\n",
       "    <tr>\n",
       "      <th>2013-05-03</th>\n",
       "      <td>12735.428571</td>\n",
       "      <td>9726.93828</td>\n",
       "      <td>98.682506</td>\n",
       "      <td>15125.784565</td>\n",
       "      <td>7879.444847</td>\n",
       "      <td>10024.671009</td>\n",
       "      <td>1576.977359</td>\n",
       "      <td>9628.439345</td>\n",
       "      <td>3201.788787</td>\n",
       "      <td>312.272389</td>\n",
       "    </tr>\n",
       "    <tr>\n",
       "      <th>2013-05-04</th>\n",
       "      <td>12758.622548</td>\n",
       "      <td>9729.21521</td>\n",
       "      <td>98.372041</td>\n",
       "      <td>15148.170100</td>\n",
       "      <td>7886.016560</td>\n",
       "      <td>10037.051582</td>\n",
       "      <td>1577.842772</td>\n",
       "      <td>9643.293465</td>\n",
       "      <td>3204.827462</td>\n",
       "      <td>313.177271</td>\n",
       "    </tr>\n",
       "    <tr>\n",
       "      <th>2013-05-05</th>\n",
       "      <td>12719.240307</td>\n",
       "      <td>9697.65758</td>\n",
       "      <td>97.852512</td>\n",
       "      <td>15097.625177</td>\n",
       "      <td>7859.545641</td>\n",
       "      <td>9999.337595</td>\n",
       "      <td>1572.747845</td>\n",
       "      <td>9623.460698</td>\n",
       "      <td>3195.832412</td>\n",
       "      <td>312.291932</td>\n",
       "    </tr>\n",
       "  </tbody>\n",
       "</table>\n",
       "</div>"
      ],
      "text/plain": [
       "                     EUR         USD        JPY           GBP          SGD  \\\n",
       "date                                                                         \n",
       "2013-05-01  12816.661099  9721.95011  99.794970  15125.789759  7884.025975   \n",
       "2013-05-02  12696.355896  9727.31307  99.371194  15096.787469  7878.089194   \n",
       "2013-05-03  12735.428571  9726.93828  98.682506  15125.784565  7879.444847   \n",
       "2013-05-04  12758.622548  9729.21521  98.372041  15148.170100  7886.016560   \n",
       "2013-05-05  12719.240307  9697.65758  97.852512  15097.625177  7859.545641   \n",
       "\n",
       "                     AUD          CNY          CAD          MYR         RUB  \n",
       "date                                                                         \n",
       "2013-05-01   9991.932116  1573.729510  9637.238781  3196.705985  311.579294  \n",
       "2013-05-02   9976.629029  1576.636811  9620.049518  3193.114711  311.787545  \n",
       "2013-05-03  10024.671009  1576.977359  9628.439345  3201.788787  312.272389  \n",
       "2013-05-04  10037.051582  1577.842772  9643.293465  3204.827462  313.177271  \n",
       "2013-05-05   9999.337595  1572.747845  9623.460698  3195.832412  312.291932  "
      ]
     },
     "execution_count": 3,
     "metadata": {},
     "output_type": "execute_result"
    }
   ],
   "source": [
    "from datetime import datetime\n",
    "import pandas as pd\n",
    "\n",
    "def parser(x):\n",
    "    return datetime.strptime(x, '%Y-%m-%d')\n",
    "\n",
    "series = pd.read_csv('./currency_data_10_years.csv', header=0, parse_dates=[0], index_col=0, squeeze=True, date_parser=parser)\n",
    "series.head()"
   ]
  },
  {
   "cell_type": "code",
   "execution_count": 14,
   "metadata": {},
   "outputs": [],
   "source": [
    "series_eur = series['EUR']"
   ]
  },
  {
   "cell_type": "code",
   "execution_count": 15,
   "metadata": {},
   "outputs": [
    {
     "data": {
      "image/png": "[encoded data removed]",
      "text/plain": [
       "<Figure size 432x288 with 1 Axes>"
      ]
     },
     "metadata": {
      "needs_background": "light"
     },
     "output_type": "display_data"
    },
    {
     "data": {
      "image/png": "[encoded data removed]",
      "text/plain": [
       "<Figure size 432x288 with 1 Axes>"
      ]
     },
     "metadata": {
      "needs_background": "light"
     },
     "output_type": "display_data"
    }
   ],
   "source": [
    "from statsmodels.graphics.tsaplots import plot_pacf\n",
    "from statsmodels.graphics.tsaplots import plot_acf\n",
    "\n",
    "\n",
    "# Specify the desired lag range\n",
    "plot_acf(series_eur)\n",
    "plt.xlabel('Lag')\n",
    "plt.ylabel('Autocorrelation')\n",
    "plt.title('Autocorrelation Plot')\n",
    "plt.show()\n",
    "\n",
    "# Plotting the partial autocorrelation\n",
    "plot_pacf(series_eur)  # Adjust the 'lags' parameter as needed\n",
    "plt.xlabel('Lag')\n",
    "plt.ylabel('Partial Autocorrelation')\n",
    "plt.title('Partial Autocorrelation Plot')\n",
    "plt.show()"
   ]
  },
  {
   "cell_type": "markdown",
   "metadata": {},
   "source": [
    "Based on the plot:\n",
    "- PACF p = 3\n",
    "- ACF q = 175\n",
    "- d = 1 \"default\"\n",
    "\n",
    "**order=(p,d,q)\n",
    "- Number of AR (Auto-Regressive) terms (p): AR terms are just lags of dependent variable. For instance if p is 5, the predictors for x(t) will be x(t-1)….x(t-5).\n",
    "- Number of MA (Moving Average) terms (q): MA terms are lagged forecast errors in prediction equation. For instance if q is 5, the predictors for x(t) will be e(t-1)….e(t-5) where e(i) is the difference between the moving average at ith instant and actual value.\n",
    "- Number of Differences (d): These are the number of nonseasonal differences, i.e. in this case we took the first order difference. So either we can pass that variable and put d=0 or pass the original variable and put d=1. Both will generate same results.\n",
    "\n",
    "\n",
    "**I will try 3 model order ARIMA**\n",
    "- order(3,1,0)\n",
    "- order(0,1,3), choosing 3 instead of 175, because it take too much computational cost.\n",
    "- order(3,1,3)"
   ]
  },
  {
   "cell_type": "code",
   "execution_count": 6,
   "metadata": {},
   "outputs": [],
   "source": [
    "from statsmodels.tsa.arima.model import ARIMA\n",
    "\n",
    "X = series_eur.values\n",
    "size = 3000\n",
    "train, test = X[:size], X[size:]"
   ]
  },
  {
   "cell_type": "code",
   "execution_count": 17,
   "metadata": {
    "scrolled": true
   },
   "outputs": [
    {
     "data": {
      "text/plain": [
       "{'mae': 52.51096,\n",
       " 'mse': 5167.8022,\n",
       " 'rmse': 71.88743,\n",
       " 'mape': 0.32961014,\n",
       " 'mase': 1.014672}"
      ]
     },
     "execution_count": 17,
     "metadata": {},
     "output_type": "execute_result"
    }
   ],
   "source": [
    "history_10 = [x for x in train]\n",
    "predictions_10 = list()\n",
    "\n",
    "# walk-forward validation\n",
    "for t in range(len(test)):\n",
    "    model = ARIMA(history_10, order=(3,1,0))\n",
    "    model_10 = model.fit()\n",
    "    output = model_10.forecast()\n",
    "    yhat = output[0]\n",
    "    predictions_10.append(yhat)\n",
    "    obs = test[t]\n",
    "    history_10.append(obs)\n",
    "    \n",
    "eval_model_10 = evaluate_predss(y_true=test,\n",
    "                               y_pred=predictions_10)\n",
    "eval_model_10"
   ]
  },
  {
   "cell_type": "code",
   "execution_count": 11,
   "metadata": {},
   "outputs": [
    {
     "data": {
      "image/png": "[encoded data removed]",
      "text/plain": [
       "<Figure size 720x432 with 1 Axes>"
      ]
     },
     "metadata": {
      "needs_background": "light"
     },
     "output_type": "display_data"
    }
   ],
   "source": [
    "plt.figure(figsize=(10, 6))\n",
    "plt.plot(test)\n",
    "plt.plot(predictions_10, color='red')\n",
    "plt.show()"
   ]
  },
  {
   "cell_type": "code",
   "execution_count": 8,
   "metadata": {},
   "outputs": [
    {
     "data": {
      "text/plain": [
       "{'mae': 52.49628,\n",
       " 'mse': 5159.2456,\n",
       " 'rmse': 71.82789,\n",
       " 'mape': 0.32952017,\n",
       " 'mase': 1.0143883}"
      ]
     },
     "execution_count": 8,
     "metadata": {},
     "output_type": "execute_result"
    }
   ],
   "source": [
    "history_11 = [x for x in train]\n",
    "predictions_11 = list()\n",
    "\n",
    "# walk-forward validation\n",
    "for t in range(len(test)):\n",
    "    model = ARIMA(history_11, order=(0,1,3))\n",
    "    model_11 = model.fit()\n",
    "    output = model_11.forecast()\n",
    "    yhat = output[0]\n",
    "    predictions_11.append(yhat)\n",
    "    obs = test[t]\n",
    "    history_11.append(obs)\n",
    "    \n",
    "    \n",
    "eval_model_11 = evaluate_predss(y_true=test,\n",
    "                               y_pred=predictions_11)\n",
    "eval_model_11"
   ]
  },
  {
   "cell_type": "code",
   "execution_count": 9,
   "metadata": {},
   "outputs": [
    {
     "name": "stderr",
     "output_type": "stream",
     "text": [
      "C:\\ProgramData\\Anaconda3\\lib\\site-packages\\statsmodels\\tsa\\statespace\\sarimax.py:963: UserWarning: Non-stationary starting autoregressive parameters found. Using zeros as starting parameters.\n",
      "  warn('Non-stationary starting autoregressive parameters'\n",
      "C:\\ProgramData\\Anaconda3\\lib\\site-packages\\statsmodels\\tsa\\statespace\\sarimax.py:975: UserWarning: Non-invertible starting MA parameters found. Using zeros as starting parameters.\n",
      "  warn('Non-invertible starting MA parameters found.'\n",
      "C:\\ProgramData\\Anaconda3\\lib\\site-packages\\statsmodels\\base\\model.py:567: ConvergenceWarning: Maximum Likelihood optimization failed to converge. Check mle_retvals\n",
      "  warn(\"Maximum Likelihood optimization failed to converge. \"\n",
      "C:\\ProgramData\\Anaconda3\\lib\\site-packages\\statsmodels\\base\\model.py:567: ConvergenceWarning: Maximum Likelihood optimization failed to converge. Check mle_retvals\n",
      "  warn(\"Maximum Likelihood optimization failed to converge. \"\n",
      "C:\\ProgramData\\Anaconda3\\lib\\site-packages\\statsmodels\\base\\model.py:567: ConvergenceWarning: Maximum Likelihood optimization failed to converge. Check mle_retvals\n",
      "  warn(\"Maximum Likelihood optimization failed to converge. \"\n"
     ]
    },
    {
     "data": {
      "text/plain": [
       "{'mae': 52.691177,\n",
       " 'mse': 5179.352,\n",
       " 'rmse': 71.96771,\n",
       " 'mape': 0.33071586,\n",
       " 'mase': 1.0181544}"
      ]
     },
     "execution_count": 9,
     "metadata": {},
     "output_type": "execute_result"
    }
   ],
   "source": [
    "history_12 = [x for x in train]\n",
    "predictions_12 = list()\n",
    "\n",
    "# walk-forward validation\n",
    "for t in range(len(test)):\n",
    "    model = ARIMA(history_12, order=(3,1,3))\n",
    "    model_12 = model.fit()\n",
    "    output = model_12.forecast()\n",
    "    yhat = output[0]\n",
    "    predictions_12.append(yhat)\n",
    "    obs = test[t]\n",
    "    history_12.append(obs)\n",
    "    \n",
    "eval_model_12 = evaluate_predss(y_true=test,\n",
    "                               y_pred=predictions_12)\n",
    "eval_model_12"
   ]
  },
  {
   "cell_type": "code",
   "execution_count": 23,
   "metadata": {},
   "outputs": [
    {
     "name": "stdout",
     "output_type": "stream",
     "text": [
      "Forecasted values for the next 7 days:\n",
      "Day 1: 16189.317868742153\n",
      "Day 2: 16171.723631422261\n",
      "Day 3: 16174.231586920647\n",
      "Day 4: 16167.813022685052\n",
      "Day 5: 16167.258197782272\n",
      "Day 6: 16162.864065469545\n",
      "Day 7: 16161.903863905196\n"
     ]
    }
   ],
   "source": [
    "# Forecasting 7 days ahead\n",
    "forecast_days = 7\n",
    "forecast = model_12.forecast(steps=forecast_days)\n",
    "\n",
    "# Print the forecasted values\n",
    "print(\"Forecasted values for the next 7 days:\")\n",
    "for i, yhat in enumerate(forecast):\n",
    "    print(f\"Day {i+1}: {yhat}\")\n"
   ]
  }
 ],
 "metadata": {
  "kernelspec": {
   "display_name": "Python 3",
   "language": "python",
   "name": "python3"
  },
  "language_info": {
   "codemirror_mode": {
    "name": "ipython",
    "version": 3
   },
   "file_extension": ".py",
   "mimetype": "text/x-python",
   "name": "python",
   "nbconvert_exporter": "python",
   "pygments_lexer": "ipython3",
   "version": "3.8.3"
  }
 },
 "nbformat": 4,
 "nbformat_minor": 4
}
