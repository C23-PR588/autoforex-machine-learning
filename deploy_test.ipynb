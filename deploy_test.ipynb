{
 "cells": [
  {
   "cell_type": "code",
   "execution_count": 1,
   "metadata": {},
   "outputs": [
    {
     "name": "stdout",
     "output_type": "stream",
     "text": [
      "{'model_version_status': [{'version': '10', 'state': 'AVAILABLE', 'status': {'error_code': 'OK', 'error_message': ''}}, {'version': '9', 'state': 'AVAILABLE', 'status': {'error_code': 'OK', 'error_message': ''}}, {'version': '8', 'state': 'AVAILABLE', 'status': {'error_code': 'OK', 'error_message': ''}}, {'version': '7', 'state': 'AVAILABLE', 'status': {'error_code': 'OK', 'error_message': ''}}, {'version': '6', 'state': 'AVAILABLE', 'status': {'error_code': 'OK', 'error_message': ''}}, {'version': '5', 'state': 'AVAILABLE', 'status': {'error_code': 'OK', 'error_message': ''}}, {'version': '4', 'state': 'AVAILABLE', 'status': {'error_code': 'OK', 'error_message': ''}}, {'version': '3', 'state': 'AVAILABLE', 'status': {'error_code': 'OK', 'error_message': ''}}, {'version': '2', 'state': 'AVAILABLE', 'status': {'error_code': 'OK', 'error_message': ''}}, {'version': '1', 'state': 'AVAILABLE', 'status': {'error_code': 'OK', 'error_message': ''}}]}\n"
     ]
    }
   ],
   "source": [
    "import requests\n",
    "\n",
    "# GET Request\n",
    "get_url = \"http://localhost:9001/v1/models/forecast_currency_exchange_rate\"\n",
    "response_get = requests.get(get_url)\n",
    "print(response_get.json())\n",
    "\n",
    "# POST Request\n",
    "post_url = \"http://localhost:9001/v1/models/forecast_currency_exchange_rate/versions/1:predict\"\n",
    "headers = {\"Content-Type\": \"application/json\"}\n"
   ]
  },
  {
   "cell_type": "code",
   "execution_count": 8,
   "metadata": {},
   "outputs": [
    {
     "name": "stderr",
     "output_type": "stream",
     "text": [
      "<ipython-input-8-400178ccf1fc>:7: FutureWarning: The squeeze argument has been deprecated and will be removed in a future version. Append .squeeze(\"columns\") to the call to squeeze.\n",
      "\n",
      "\n",
      "  series = pd.read_csv('./currency_data_10_years.csv', header=0, parse_dates=[0], index_col=0, squeeze=True, date_parser=parser)\n"
     ]
    },
    {
     "name": "stdout",
     "output_type": "stream",
     "text": [
      "EUR/IDR 10 days forecast\n",
      "16259.0928\n",
      "16274.2275\n",
      "16294.1465\n",
      "16262.4961\n",
      "16320.0449\n",
      "16352.1973\n",
      "16359.0967\n",
      "16310.8975\n",
      "16318.8564\n",
      "16344.5596\n",
      "USD/IDR 10 days forecast\n",
      "14749.4199\n",
      "14772.4238\n",
      "14781.0957\n",
      "14741.5811\n",
      "14767.0068\n",
      "14787.3877\n",
      "14818.3887\n",
      "14810.6211\n",
      "14805.7\n",
      "14804.5264\n",
      "JPY/IDR 10 days forecast\n",
      "108.719048\n",
      "108.794777\n",
      "108.780731\n",
      "108.737778\n",
      "108.767883\n",
      "109.072578\n",
      "109.618683\n",
      "109.630676\n",
      "109.756653\n",
      "109.843323\n",
      "GBP/IDR 10 days forecast\n",
      "18451.3496\n",
      "18459.0605\n",
      "18482.6328\n",
      "18455.4121\n",
      "18498.0566\n",
      "18508.6348\n",
      "18526.2\n",
      "18492.0449\n",
      "18492.7578\n",
      "18534.7148\n",
      "SGD/IDR 10 days forecast\n",
      "11048.4053\n",
      "11049.7256\n",
      "11056.9092\n",
      "11036.9502\n",
      "11057.2891\n",
      "11071.6895\n",
      "11087.3125\n",
      "11075.9502\n",
      "11070.7451\n",
      "11076.7217\n",
      "AUD/IDR 10 days forecast\n",
      "9799.92676\n",
      "9801.23926\n",
      "9793.53223\n",
      "9793.72656\n",
      "9821.14258\n",
      "9838.37305\n",
      "9834.14453\n",
      "9822.8252\n",
      "9801.55859\n",
      "9809.86328\n",
      "CNY/IDR 10 days forecast\n",
      "2135.43726\n",
      "2136.75171\n",
      "2138.00903\n",
      "2133.69165\n",
      "2137.86182\n",
      "2140.86719\n",
      "2143.95532\n",
      "2141.47827\n",
      "2139.75\n",
      "2139.85254\n",
      "CAD/IDR 10 days forecast\n",
      "10889.6445\n",
      "10877.4629\n",
      "10868.7207\n",
      "10857.54\n",
      "10863.6777\n",
      "10871.3955\n",
      "10884.6113\n",
      "10883.0088\n",
      "10869.5195\n",
      "10872.8711\n",
      "MYR/IDR 10 days forecast\n",
      "3292.96729\n",
      "3297.09644\n",
      "3299.13843\n",
      "3286.73047\n",
      "3295.01685\n",
      "3297.19116\n",
      "3312.14941\n",
      "3297.95288\n",
      "3300.87451\n",
      "3305.01514\n",
      "RUB/IDR 10 days forecast\n",
      "182.370483\n",
      "183.218323\n",
      "183.204605\n",
      "182.456894\n",
      "183.109726\n",
      "183.781036\n",
      "183.891846\n",
      "183.789505\n",
      "183.570694\n",
      "183.632141\n"
     ]
    }
   ],
   "source": [
    "from datetime import datetime\n",
    "import pandas as pd\n",
    "\n",
    "def parser(x):\n",
    "    return datetime.strptime(x, '%Y-%m-%d')\n",
    "\n",
    "series = pd.read_csv('./currency_data_10_years.csv', header=0, parse_dates=[0], index_col=0, squeeze=True, date_parser=parser)\n",
    "series.head()\n",
    "\n",
    "columns = series.columns.tolist()\n",
    "future_forecasts=[]\n",
    "\n",
    "into_future = 10\n",
    "for column in columns:\n",
    "    future_forecast=[]\n",
    "    input_series = series[column].tolist()[-30:] # window_size = 30\n",
    "    print(f\"{column}/IDR {into_future} days forecast\")\n",
    "    for i in range(into_future):\n",
    "        data = {\n",
    "            \"instances\": [\n",
    "                input_series\n",
    "            ]\n",
    "        }\n",
    "        response_post = requests.post(post_url, headers=headers, json=data)\n",
    "        prediction = response_post.json()[\"predictions\"][0][0]\n",
    "        future_forecast.append(prediction)\n",
    "        print(prediction)\n",
    "        \n",
    "        input_series.append(prediction)\n",
    "        input_series = input_series[1:]\n",
    "    future_forecasts.append(future_forecast)\n",
    "\n",
    "        "
   ]
  },
  {
   "cell_type": "code",
   "execution_count": 9,
   "metadata": {},
   "outputs": [
    {
     "name": "stdout",
     "output_type": "stream",
     "text": [
      "[16259.0928, 16274.2275, 16294.1465, 16262.4961, 16320.0449, 16352.1973, 16359.0967, 16310.8975, 16318.8564, 16344.5596]\n"
     ]
    }
   ],
   "source": [
    "print(future_forecasts[0])"
   ]
  }
 ],
 "metadata": {
  "kernelspec": {
   "display_name": "base",
   "language": "python",
   "name": "python3"
  },
  "language_info": {
   "codemirror_mode": {
    "name": "ipython",
    "version": 3
   },
   "file_extension": ".py",
   "mimetype": "text/x-python",
   "name": "python",
   "nbconvert_exporter": "python",
   "pygments_lexer": "ipython3",
   "version": "3.8.3"
  },
  "orig_nbformat": 4
 },
 "nbformat": 4,
 "nbformat_minor": 2
}
